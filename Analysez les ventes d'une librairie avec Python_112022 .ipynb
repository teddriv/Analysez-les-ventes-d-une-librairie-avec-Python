{
 "cells": [
  {
   "cell_type": "code",
   "execution_count": 1,
   "id": "8d71da33",
   "metadata": {},
   "outputs": [],
   "source": [
    "# Librairies de calcul\n",
    "import pandas as pd\n",
    "import numpy as np\n",
    "import datetime\n",
    "# Librairies de visualisation\n",
    "import matplotlib.pyplot as plt\n",
    "import seaborn as sns\n",
    "import plotly.express as px \n"
   ]
  },
  {
   "cell_type": "code",
   "execution_count": 2,
   "id": "379f13e5",
   "metadata": {},
   "outputs": [],
   "source": [
    "id_client = pd.read_csv ('customers.csv')\n",
    "\n",
    "id_prod = pd.read_csv ('products.csv')\n",
    "\n",
    "trans = pd.read_csv ('transactions.csv')"
   ]
  },
  {
   "cell_type": "markdown",
   "id": "4b9ebf3c",
   "metadata": {},
   "source": [
    "**Pour Rappel :** *Concernant l’analyse de données prévue sous peu, plusieurs aspects doivent être couverts.*\n",
    "- Besoin de différents indicateurs et graphiques autour du chiffre d'affaires. \n",
    "- Regarder l’évolution dans le temps et mettre en place une décomposition en moyenne mobile pour évaluer la tendance globale ?\n",
    "- Faire un zoom sur les références, pour voir un peu les tops et les flops, la répartition par catégorie, etc.\n",
    "-  quelques informations sur les profils de nos clients, et également la répartition du chiffre d'affaires entre eux, via par exemple une courbe de Lorenz.\n",
    "- Après, toutes les informations et tous graphiques qui apporteraient de l’information pertinente sont les bienvenus !*"
   ]
  },
  {
   "cell_type": "markdown",
   "id": "c586f6db",
   "metadata": {},
   "source": [
    "## Sommaire <a class=\"anchor\" id=\"Sommaire\"></a>\n",
    "\n",
    "*[nettoyage des données](#nettoyage)*\n",
    "\n",
    "[Jointure des dataframes:](#jointure)\n",
    "\n",
    "[Analyse des différents indicateurs de vente:\n",
    "Différents indicateurs et graphiques autour du CA dont évolution dans le temps:](#analyse)\n",
    "\n",
    "[les profils de nos clients](#clients)\n",
    "\n",
    "\n"
   ]
  },
  {
   "cell_type": "markdown",
   "id": "119e28ea",
   "metadata": {},
   "source": [
    "## nettoyage des données <a class=\"anchor\" id=\"nettoyage\"></a>\n",
    "\n",
    "[Sommaire](#Sommaire)"
   ]
  },
  {
   "cell_type": "markdown",
   "id": "09bce7c4",
   "metadata": {},
   "source": [
    "**Dataframe : id_client**"
   ]
  },
  {
   "cell_type": "code",
   "execution_count": 3,
   "id": "6833d7d9",
   "metadata": {},
   "outputs": [
    {
     "data": {
      "text/html": [
       "<div>\n",
       "<style scoped>\n",
       "    .dataframe tbody tr th:only-of-type {\n",
       "        vertical-align: middle;\n",
       "    }\n",
       "\n",
       "    .dataframe tbody tr th {\n",
       "        vertical-align: top;\n",
       "    }\n",
       "\n",
       "    .dataframe thead th {\n",
       "        text-align: right;\n",
       "    }\n",
       "</style>\n",
       "<table border=\"1\" class=\"dataframe\">\n",
       "  <thead>\n",
       "    <tr style=\"text-align: right;\">\n",
       "      <th></th>\n",
       "      <th>client_id</th>\n",
       "      <th>sex</th>\n",
       "      <th>birth</th>\n",
       "    </tr>\n",
       "  </thead>\n",
       "  <tbody>\n",
       "    <tr>\n",
       "      <th>0</th>\n",
       "      <td>c_4410</td>\n",
       "      <td>f</td>\n",
       "      <td>1967</td>\n",
       "    </tr>\n",
       "    <tr>\n",
       "      <th>1</th>\n",
       "      <td>c_7839</td>\n",
       "      <td>f</td>\n",
       "      <td>1975</td>\n",
       "    </tr>\n",
       "    <tr>\n",
       "      <th>2</th>\n",
       "      <td>c_1699</td>\n",
       "      <td>f</td>\n",
       "      <td>1984</td>\n",
       "    </tr>\n",
       "    <tr>\n",
       "      <th>3</th>\n",
       "      <td>c_5961</td>\n",
       "      <td>f</td>\n",
       "      <td>1962</td>\n",
       "    </tr>\n",
       "    <tr>\n",
       "      <th>4</th>\n",
       "      <td>c_5320</td>\n",
       "      <td>m</td>\n",
       "      <td>1943</td>\n",
       "    </tr>\n",
       "    <tr>\n",
       "      <th>...</th>\n",
       "      <td>...</td>\n",
       "      <td>...</td>\n",
       "      <td>...</td>\n",
       "    </tr>\n",
       "    <tr>\n",
       "      <th>8618</th>\n",
       "      <td>c_7920</td>\n",
       "      <td>m</td>\n",
       "      <td>1956</td>\n",
       "    </tr>\n",
       "    <tr>\n",
       "      <th>8619</th>\n",
       "      <td>c_7403</td>\n",
       "      <td>f</td>\n",
       "      <td>1970</td>\n",
       "    </tr>\n",
       "    <tr>\n",
       "      <th>8620</th>\n",
       "      <td>c_5119</td>\n",
       "      <td>m</td>\n",
       "      <td>1974</td>\n",
       "    </tr>\n",
       "    <tr>\n",
       "      <th>8621</th>\n",
       "      <td>c_5643</td>\n",
       "      <td>f</td>\n",
       "      <td>1968</td>\n",
       "    </tr>\n",
       "    <tr>\n",
       "      <th>8622</th>\n",
       "      <td>c_84</td>\n",
       "      <td>f</td>\n",
       "      <td>1982</td>\n",
       "    </tr>\n",
       "  </tbody>\n",
       "</table>\n",
       "<p>8623 rows × 3 columns</p>\n",
       "</div>"
      ],
      "text/plain": [
       "     client_id sex  birth\n",
       "0       c_4410   f   1967\n",
       "1       c_7839   f   1975\n",
       "2       c_1699   f   1984\n",
       "3       c_5961   f   1962\n",
       "4       c_5320   m   1943\n",
       "...        ...  ..    ...\n",
       "8618    c_7920   m   1956\n",
       "8619    c_7403   f   1970\n",
       "8620    c_5119   m   1974\n",
       "8621    c_5643   f   1968\n",
       "8622      c_84   f   1982\n",
       "\n",
       "[8623 rows x 3 columns]"
      ]
     },
     "execution_count": 3,
     "metadata": {},
     "output_type": "execute_result"
    }
   ],
   "source": [
    "id_client"
   ]
  },
  {
   "cell_type": "code",
   "execution_count": 4,
   "id": "a470d064",
   "metadata": {},
   "outputs": [
    {
     "name": "stdout",
     "output_type": "stream",
     "text": [
      "<class 'pandas.core.frame.DataFrame'>\n",
      "RangeIndex: 8623 entries, 0 to 8622\n",
      "Data columns (total 3 columns):\n",
      " #   Column     Non-Null Count  Dtype \n",
      "---  ------     --------------  ----- \n",
      " 0   client_id  8623 non-null   object\n",
      " 1   sex        8623 non-null   object\n",
      " 2   birth      8623 non-null   int64 \n",
      "dtypes: int64(1), object(2)\n",
      "memory usage: 202.2+ KB\n"
     ]
    }
   ],
   "source": [
    "id_client.info()"
   ]
  },
  {
   "cell_type": "code",
   "execution_count": 5,
   "id": "01fde252",
   "metadata": {},
   "outputs": [
    {
     "data": {
      "text/html": [
       "<div>\n",
       "<style scoped>\n",
       "    .dataframe tbody tr th:only-of-type {\n",
       "        vertical-align: middle;\n",
       "    }\n",
       "\n",
       "    .dataframe tbody tr th {\n",
       "        vertical-align: top;\n",
       "    }\n",
       "\n",
       "    .dataframe thead th {\n",
       "        text-align: right;\n",
       "    }\n",
       "</style>\n",
       "<table border=\"1\" class=\"dataframe\">\n",
       "  <thead>\n",
       "    <tr style=\"text-align: right;\">\n",
       "      <th></th>\n",
       "      <th>client_id</th>\n",
       "      <th>sex</th>\n",
       "      <th>birth</th>\n",
       "    </tr>\n",
       "  </thead>\n",
       "  <tbody>\n",
       "    <tr>\n",
       "      <th>2735</th>\n",
       "      <td>ct_0</td>\n",
       "      <td>f</td>\n",
       "      <td>2001</td>\n",
       "    </tr>\n",
       "    <tr>\n",
       "      <th>8494</th>\n",
       "      <td>ct_1</td>\n",
       "      <td>m</td>\n",
       "      <td>2001</td>\n",
       "    </tr>\n",
       "  </tbody>\n",
       "</table>\n",
       "</div>"
      ],
      "text/plain": [
       "     client_id sex  birth\n",
       "2735      ct_0   f   2001\n",
       "8494      ct_1   m   2001"
      ]
     },
     "execution_count": 5,
     "metadata": {},
     "output_type": "execute_result"
    }
   ],
   "source": [
    "# Rechercher d'éventuelles valeurs aberrantes dans la colonne 'client_id' qui ne respectent pas la forme de la clé primaire\n",
    "valeurs_aberr=id_client[~id_client['client_id'].str.contains(\"c_\")]\n",
    "valeurs_aberr.head()"
   ]
  },
  {
   "cell_type": "code",
   "execution_count": 6,
   "id": "701f70df",
   "metadata": {},
   "outputs": [],
   "source": [
    "# Suppression des valeurs aberrantes (ct_0 et ct_1) de la colonne 'client_id'\n",
    "id_client.drop(id_client[id_client['client_id'].str.contains(\"ct_\")].index, inplace=True)"
   ]
  },
  {
   "cell_type": "code",
   "execution_count": 7,
   "id": "a92b5e12",
   "metadata": {},
   "outputs": [
    {
     "data": {
      "text/html": [
       "<div>\n",
       "<style scoped>\n",
       "    .dataframe tbody tr th:only-of-type {\n",
       "        vertical-align: middle;\n",
       "    }\n",
       "\n",
       "    .dataframe tbody tr th {\n",
       "        vertical-align: top;\n",
       "    }\n",
       "\n",
       "    .dataframe thead th {\n",
       "        text-align: right;\n",
       "    }\n",
       "</style>\n",
       "<table border=\"1\" class=\"dataframe\">\n",
       "  <thead>\n",
       "    <tr style=\"text-align: right;\">\n",
       "      <th></th>\n",
       "      <th>client_id</th>\n",
       "      <th>sex</th>\n",
       "      <th>birth</th>\n",
       "    </tr>\n",
       "  </thead>\n",
       "  <tbody>\n",
       "  </tbody>\n",
       "</table>\n",
       "</div>"
      ],
      "text/plain": [
       "Empty DataFrame\n",
       "Columns: [client_id, sex, birth]\n",
       "Index: []"
      ]
     },
     "execution_count": 7,
     "metadata": {},
     "output_type": "execute_result"
    }
   ],
   "source": [
    "# vérification des valeurs aberrantes (ct_0 et ct_1) supprimées\n",
    "id_client[id_client['client_id'].str.contains(\"ct_\")]"
   ]
  },
  {
   "cell_type": "code",
   "execution_count": 8,
   "id": "52d7166a",
   "metadata": {},
   "outputs": [
    {
     "name": "stdout",
     "output_type": "stream",
     "text": [
      "<class 'pandas.core.frame.DataFrame'>\n",
      "Int64Index: 8621 entries, 0 to 8622\n",
      "Data columns (total 3 columns):\n",
      " #   Column     Non-Null Count  Dtype \n",
      "---  ------     --------------  ----- \n",
      " 0   client_id  8621 non-null   object\n",
      " 1   sex        8621 non-null   object\n",
      " 2   birth      8621 non-null   int64 \n",
      "dtypes: int64(1), object(2)\n",
      "memory usage: 269.4+ KB\n"
     ]
    },
    {
     "data": {
      "text/html": [
       "<div>\n",
       "<style scoped>\n",
       "    .dataframe tbody tr th:only-of-type {\n",
       "        vertical-align: middle;\n",
       "    }\n",
       "\n",
       "    .dataframe tbody tr th {\n",
       "        vertical-align: top;\n",
       "    }\n",
       "\n",
       "    .dataframe thead th {\n",
       "        text-align: right;\n",
       "    }\n",
       "</style>\n",
       "<table border=\"1\" class=\"dataframe\">\n",
       "  <thead>\n",
       "    <tr style=\"text-align: right;\">\n",
       "      <th></th>\n",
       "      <th>birth</th>\n",
       "    </tr>\n",
       "  </thead>\n",
       "  <tbody>\n",
       "    <tr>\n",
       "      <th>count</th>\n",
       "      <td>8621.000000</td>\n",
       "    </tr>\n",
       "    <tr>\n",
       "      <th>mean</th>\n",
       "      <td>1978.275606</td>\n",
       "    </tr>\n",
       "    <tr>\n",
       "      <th>std</th>\n",
       "      <td>16.917958</td>\n",
       "    </tr>\n",
       "    <tr>\n",
       "      <th>min</th>\n",
       "      <td>1929.000000</td>\n",
       "    </tr>\n",
       "    <tr>\n",
       "      <th>25%</th>\n",
       "      <td>1966.000000</td>\n",
       "    </tr>\n",
       "    <tr>\n",
       "      <th>50%</th>\n",
       "      <td>1979.000000</td>\n",
       "    </tr>\n",
       "    <tr>\n",
       "      <th>75%</th>\n",
       "      <td>1992.000000</td>\n",
       "    </tr>\n",
       "    <tr>\n",
       "      <th>max</th>\n",
       "      <td>2004.000000</td>\n",
       "    </tr>\n",
       "  </tbody>\n",
       "</table>\n",
       "</div>"
      ],
      "text/plain": [
       "             birth\n",
       "count  8621.000000\n",
       "mean   1978.275606\n",
       "std      16.917958\n",
       "min    1929.000000\n",
       "25%    1966.000000\n",
       "50%    1979.000000\n",
       "75%    1992.000000\n",
       "max    2004.000000"
      ]
     },
     "execution_count": 8,
     "metadata": {},
     "output_type": "execute_result"
    }
   ],
   "source": [
    "id_client.info()\n",
    "id_client.describe()"
   ]
  },
  {
   "cell_type": "code",
   "execution_count": 9,
   "id": "1bad8841",
   "metadata": {},
   "outputs": [
    {
     "data": {
      "text/plain": [
       "client_id    0\n",
       "sex          0\n",
       "birth        0\n",
       "dtype: int64"
      ]
     },
     "execution_count": 9,
     "metadata": {},
     "output_type": "execute_result"
    }
   ],
   "source": [
    "id_client.isna().sum()"
   ]
  },
  {
   "cell_type": "markdown",
   "id": "14b71f45",
   "metadata": {},
   "source": [
    "Il n'y a pas de valeurs null dans la dataframe id_client"
   ]
  },
  {
   "cell_type": "code",
   "execution_count": 10,
   "id": "a2b05908",
   "metadata": {},
   "outputs": [
    {
     "data": {
      "text/html": [
       "<div>\n",
       "<style scoped>\n",
       "    .dataframe tbody tr th:only-of-type {\n",
       "        vertical-align: middle;\n",
       "    }\n",
       "\n",
       "    .dataframe tbody tr th {\n",
       "        vertical-align: top;\n",
       "    }\n",
       "\n",
       "    .dataframe thead th {\n",
       "        text-align: right;\n",
       "    }\n",
       "</style>\n",
       "<table border=\"1\" class=\"dataframe\">\n",
       "  <thead>\n",
       "    <tr style=\"text-align: right;\">\n",
       "      <th></th>\n",
       "      <th>client_id</th>\n",
       "      <th>sex</th>\n",
       "      <th>birth</th>\n",
       "    </tr>\n",
       "  </thead>\n",
       "  <tbody>\n",
       "  </tbody>\n",
       "</table>\n",
       "</div>"
      ],
      "text/plain": [
       "Empty DataFrame\n",
       "Columns: [client_id, sex, birth]\n",
       "Index: []"
      ]
     },
     "execution_count": 10,
     "metadata": {},
     "output_type": "execute_result"
    }
   ],
   "source": [
    "#vérification s'il existe des doublons id_client\n",
    "id_client.loc[id_client['client_id'].duplicated(keep= False)]"
   ]
  },
  {
   "cell_type": "markdown",
   "id": "ade5f897",
   "metadata": {},
   "source": [
    "il n'y a pas de doublons"
   ]
  },
  {
   "cell_type": "code",
   "execution_count": 11,
   "id": "f88c1e7c",
   "metadata": {},
   "outputs": [],
   "source": [
    "def is_primary_key(df, column_name):\n",
    "    \"\"\"\n",
    "    Vérifie si une colonne donnée est une clé primaire d'un DataFrame donné.\n",
    "    \n",
    "    Args:\n",
    "    - df: DataFrame\n",
    "    - column_name: str, nom de la colonne à vérifier\n",
    "    \n",
    "    Returns:\n",
    "    - bool, True si la colonne est une clé primaire, False sinon\n",
    "    \"\"\"\n",
    "    # Vérifie si la colonne existe dans le DataFrame\n",
    "    if column_name not in df.columns:\n",
    "        raise ValueError(f\"La colonne '{column_name}' n'existe pas dans le DataFrame.\")\n",
    "    \n",
    "    # Vérifie si la colonne a des valeurs uniques\n",
    "    if df[column_name].nunique() != len(df):\n",
    "        return False\n",
    "    \n",
    "    # Vérifie si la colonne n'a pas de valeurs manquantes\n",
    "    if df[column_name].isnull().any():\n",
    "        return False\n",
    "    \n",
    "    # Si toutes les conditions sont remplies, la colonne est une clé primaire\n",
    "    return True"
   ]
  },
  {
   "cell_type": "code",
   "execution_count": 12,
   "id": "3115725d",
   "metadata": {},
   "outputs": [
    {
     "name": "stdout",
     "output_type": "stream",
     "text": [
      "True\n"
     ]
    }
   ],
   "source": [
    "print(is_primary_key(id_client, \"client_id\"))"
   ]
  },
  {
   "cell_type": "markdown",
   "id": "a2448c0d",
   "metadata": {},
   "source": [
    "**dataframe : id_prod**"
   ]
  },
  {
   "cell_type": "code",
   "execution_count": 13,
   "id": "34ffbe66",
   "metadata": {},
   "outputs": [
    {
     "data": {
      "text/html": [
       "<div>\n",
       "<style scoped>\n",
       "    .dataframe tbody tr th:only-of-type {\n",
       "        vertical-align: middle;\n",
       "    }\n",
       "\n",
       "    .dataframe tbody tr th {\n",
       "        vertical-align: top;\n",
       "    }\n",
       "\n",
       "    .dataframe thead th {\n",
       "        text-align: right;\n",
       "    }\n",
       "</style>\n",
       "<table border=\"1\" class=\"dataframe\">\n",
       "  <thead>\n",
       "    <tr style=\"text-align: right;\">\n",
       "      <th></th>\n",
       "      <th>id_prod</th>\n",
       "      <th>price</th>\n",
       "      <th>categ</th>\n",
       "    </tr>\n",
       "  </thead>\n",
       "  <tbody>\n",
       "    <tr>\n",
       "      <th>0</th>\n",
       "      <td>0_1421</td>\n",
       "      <td>19.99</td>\n",
       "      <td>0</td>\n",
       "    </tr>\n",
       "    <tr>\n",
       "      <th>1</th>\n",
       "      <td>0_1368</td>\n",
       "      <td>5.13</td>\n",
       "      <td>0</td>\n",
       "    </tr>\n",
       "    <tr>\n",
       "      <th>2</th>\n",
       "      <td>0_731</td>\n",
       "      <td>17.99</td>\n",
       "      <td>0</td>\n",
       "    </tr>\n",
       "    <tr>\n",
       "      <th>3</th>\n",
       "      <td>1_587</td>\n",
       "      <td>4.99</td>\n",
       "      <td>1</td>\n",
       "    </tr>\n",
       "    <tr>\n",
       "      <th>4</th>\n",
       "      <td>0_1507</td>\n",
       "      <td>3.99</td>\n",
       "      <td>0</td>\n",
       "    </tr>\n",
       "    <tr>\n",
       "      <th>...</th>\n",
       "      <td>...</td>\n",
       "      <td>...</td>\n",
       "      <td>...</td>\n",
       "    </tr>\n",
       "    <tr>\n",
       "      <th>3282</th>\n",
       "      <td>2_23</td>\n",
       "      <td>115.99</td>\n",
       "      <td>2</td>\n",
       "    </tr>\n",
       "    <tr>\n",
       "      <th>3283</th>\n",
       "      <td>0_146</td>\n",
       "      <td>17.14</td>\n",
       "      <td>0</td>\n",
       "    </tr>\n",
       "    <tr>\n",
       "      <th>3284</th>\n",
       "      <td>0_802</td>\n",
       "      <td>11.22</td>\n",
       "      <td>0</td>\n",
       "    </tr>\n",
       "    <tr>\n",
       "      <th>3285</th>\n",
       "      <td>1_140</td>\n",
       "      <td>38.56</td>\n",
       "      <td>1</td>\n",
       "    </tr>\n",
       "    <tr>\n",
       "      <th>3286</th>\n",
       "      <td>0_1920</td>\n",
       "      <td>25.16</td>\n",
       "      <td>0</td>\n",
       "    </tr>\n",
       "  </tbody>\n",
       "</table>\n",
       "<p>3287 rows × 3 columns</p>\n",
       "</div>"
      ],
      "text/plain": [
       "     id_prod   price  categ\n",
       "0     0_1421   19.99      0\n",
       "1     0_1368    5.13      0\n",
       "2      0_731   17.99      0\n",
       "3      1_587    4.99      1\n",
       "4     0_1507    3.99      0\n",
       "...      ...     ...    ...\n",
       "3282    2_23  115.99      2\n",
       "3283   0_146   17.14      0\n",
       "3284   0_802   11.22      0\n",
       "3285   1_140   38.56      1\n",
       "3286  0_1920   25.16      0\n",
       "\n",
       "[3287 rows x 3 columns]"
      ]
     },
     "execution_count": 13,
     "metadata": {},
     "output_type": "execute_result"
    }
   ],
   "source": [
    "id_prod"
   ]
  },
  {
   "cell_type": "code",
   "execution_count": 14,
   "id": "08c67d3f",
   "metadata": {},
   "outputs": [
    {
     "name": "stdout",
     "output_type": "stream",
     "text": [
      "<class 'pandas.core.frame.DataFrame'>\n",
      "RangeIndex: 3287 entries, 0 to 3286\n",
      "Data columns (total 3 columns):\n",
      " #   Column   Non-Null Count  Dtype  \n",
      "---  ------   --------------  -----  \n",
      " 0   id_prod  3287 non-null   object \n",
      " 1   price    3287 non-null   float64\n",
      " 2   categ    3287 non-null   int64  \n",
      "dtypes: float64(1), int64(1), object(1)\n",
      "memory usage: 77.2+ KB\n"
     ]
    },
    {
     "data": {
      "text/html": [
       "<div>\n",
       "<style scoped>\n",
       "    .dataframe tbody tr th:only-of-type {\n",
       "        vertical-align: middle;\n",
       "    }\n",
       "\n",
       "    .dataframe tbody tr th {\n",
       "        vertical-align: top;\n",
       "    }\n",
       "\n",
       "    .dataframe thead th {\n",
       "        text-align: right;\n",
       "    }\n",
       "</style>\n",
       "<table border=\"1\" class=\"dataframe\">\n",
       "  <thead>\n",
       "    <tr style=\"text-align: right;\">\n",
       "      <th></th>\n",
       "      <th>price</th>\n",
       "      <th>categ</th>\n",
       "    </tr>\n",
       "  </thead>\n",
       "  <tbody>\n",
       "    <tr>\n",
       "      <th>count</th>\n",
       "      <td>3287.000000</td>\n",
       "      <td>3287.000000</td>\n",
       "    </tr>\n",
       "    <tr>\n",
       "      <th>mean</th>\n",
       "      <td>21.856641</td>\n",
       "      <td>0.370246</td>\n",
       "    </tr>\n",
       "    <tr>\n",
       "      <th>std</th>\n",
       "      <td>29.847908</td>\n",
       "      <td>0.615387</td>\n",
       "    </tr>\n",
       "    <tr>\n",
       "      <th>min</th>\n",
       "      <td>-1.000000</td>\n",
       "      <td>0.000000</td>\n",
       "    </tr>\n",
       "    <tr>\n",
       "      <th>25%</th>\n",
       "      <td>6.990000</td>\n",
       "      <td>0.000000</td>\n",
       "    </tr>\n",
       "    <tr>\n",
       "      <th>50%</th>\n",
       "      <td>13.060000</td>\n",
       "      <td>0.000000</td>\n",
       "    </tr>\n",
       "    <tr>\n",
       "      <th>75%</th>\n",
       "      <td>22.990000</td>\n",
       "      <td>1.000000</td>\n",
       "    </tr>\n",
       "    <tr>\n",
       "      <th>max</th>\n",
       "      <td>300.000000</td>\n",
       "      <td>2.000000</td>\n",
       "    </tr>\n",
       "  </tbody>\n",
       "</table>\n",
       "</div>"
      ],
      "text/plain": [
       "             price        categ\n",
       "count  3287.000000  3287.000000\n",
       "mean     21.856641     0.370246\n",
       "std      29.847908     0.615387\n",
       "min      -1.000000     0.000000\n",
       "25%       6.990000     0.000000\n",
       "50%      13.060000     0.000000\n",
       "75%      22.990000     1.000000\n",
       "max     300.000000     2.000000"
      ]
     },
     "execution_count": 14,
     "metadata": {},
     "output_type": "execute_result"
    }
   ],
   "source": [
    "id_prod.info()\n",
    "id_prod.describe()"
   ]
  },
  {
   "cell_type": "code",
   "execution_count": 15,
   "id": "6f65763b",
   "metadata": {},
   "outputs": [
    {
     "data": {
      "text/plain": [
       "id_prod    0\n",
       "price      0\n",
       "categ      0\n",
       "dtype: int64"
      ]
     },
     "execution_count": 15,
     "metadata": {},
     "output_type": "execute_result"
    }
   ],
   "source": [
    "id_prod.isna().sum()"
   ]
  },
  {
   "cell_type": "code",
   "execution_count": 16,
   "id": "eade5f6d",
   "metadata": {},
   "outputs": [
    {
     "data": {
      "text/html": [
       "<div>\n",
       "<style scoped>\n",
       "    .dataframe tbody tr th:only-of-type {\n",
       "        vertical-align: middle;\n",
       "    }\n",
       "\n",
       "    .dataframe tbody tr th {\n",
       "        vertical-align: top;\n",
       "    }\n",
       "\n",
       "    .dataframe thead th {\n",
       "        text-align: right;\n",
       "    }\n",
       "</style>\n",
       "<table border=\"1\" class=\"dataframe\">\n",
       "  <thead>\n",
       "    <tr style=\"text-align: right;\">\n",
       "      <th></th>\n",
       "      <th>id_prod</th>\n",
       "      <th>price</th>\n",
       "      <th>categ</th>\n",
       "    </tr>\n",
       "  </thead>\n",
       "  <tbody>\n",
       "  </tbody>\n",
       "</table>\n",
       "</div>"
      ],
      "text/plain": [
       "Empty DataFrame\n",
       "Columns: [id_prod, price, categ]\n",
       "Index: []"
      ]
     },
     "execution_count": 16,
     "metadata": {},
     "output_type": "execute_result"
    }
   ],
   "source": [
    "#vérification s'il existe des doublons id_prod\n",
    "id_prod.loc[id_prod['id_prod'].duplicated(keep= False)]"
   ]
  },
  {
   "cell_type": "markdown",
   "id": "f5ae1fea",
   "metadata": {},
   "source": [
    "il n'y a pas de doublons"
   ]
  },
  {
   "cell_type": "code",
   "execution_count": 17,
   "id": "74f0f06d",
   "metadata": {},
   "outputs": [
    {
     "name": "stdout",
     "output_type": "stream",
     "text": [
      "True\n"
     ]
    }
   ],
   "source": [
    "print(is_primary_key(id_prod, \"id_prod\"))"
   ]
  },
  {
   "cell_type": "markdown",
   "id": "08ab4884",
   "metadata": {},
   "source": [
    "**Dataframe : Trans** (transaction)"
   ]
  },
  {
   "cell_type": "code",
   "execution_count": 18,
   "id": "9fa368d9",
   "metadata": {},
   "outputs": [
    {
     "data": {
      "text/html": [
       "<div>\n",
       "<style scoped>\n",
       "    .dataframe tbody tr th:only-of-type {\n",
       "        vertical-align: middle;\n",
       "    }\n",
       "\n",
       "    .dataframe tbody tr th {\n",
       "        vertical-align: top;\n",
       "    }\n",
       "\n",
       "    .dataframe thead th {\n",
       "        text-align: right;\n",
       "    }\n",
       "</style>\n",
       "<table border=\"1\" class=\"dataframe\">\n",
       "  <thead>\n",
       "    <tr style=\"text-align: right;\">\n",
       "      <th></th>\n",
       "      <th>id_prod</th>\n",
       "      <th>date</th>\n",
       "      <th>session_id</th>\n",
       "      <th>client_id</th>\n",
       "    </tr>\n",
       "  </thead>\n",
       "  <tbody>\n",
       "    <tr>\n",
       "      <th>0</th>\n",
       "      <td>0_1518</td>\n",
       "      <td>2022-05-20 13:21:29.043970</td>\n",
       "      <td>s_211425</td>\n",
       "      <td>c_103</td>\n",
       "    </tr>\n",
       "    <tr>\n",
       "      <th>1</th>\n",
       "      <td>1_251</td>\n",
       "      <td>2022-02-02 07:55:19.149409</td>\n",
       "      <td>s_158752</td>\n",
       "      <td>c_8534</td>\n",
       "    </tr>\n",
       "    <tr>\n",
       "      <th>2</th>\n",
       "      <td>0_1277</td>\n",
       "      <td>2022-06-18 15:44:33.155329</td>\n",
       "      <td>s_225667</td>\n",
       "      <td>c_6714</td>\n",
       "    </tr>\n",
       "    <tr>\n",
       "      <th>3</th>\n",
       "      <td>2_209</td>\n",
       "      <td>2021-06-24 04:19:29.835891</td>\n",
       "      <td>s_52962</td>\n",
       "      <td>c_6941</td>\n",
       "    </tr>\n",
       "    <tr>\n",
       "      <th>4</th>\n",
       "      <td>0_1509</td>\n",
       "      <td>2023-01-11 08:22:08.194479</td>\n",
       "      <td>s_325227</td>\n",
       "      <td>c_4232</td>\n",
       "    </tr>\n",
       "    <tr>\n",
       "      <th>...</th>\n",
       "      <td>...</td>\n",
       "      <td>...</td>\n",
       "      <td>...</td>\n",
       "      <td>...</td>\n",
       "    </tr>\n",
       "    <tr>\n",
       "      <th>679527</th>\n",
       "      <td>0_1551</td>\n",
       "      <td>2022-01-15 13:05:06.246925</td>\n",
       "      <td>s_150195</td>\n",
       "      <td>c_8489</td>\n",
       "    </tr>\n",
       "    <tr>\n",
       "      <th>679528</th>\n",
       "      <td>1_639</td>\n",
       "      <td>2022-03-19 16:03:23.429229</td>\n",
       "      <td>s_181434</td>\n",
       "      <td>c_4370</td>\n",
       "    </tr>\n",
       "    <tr>\n",
       "      <th>679529</th>\n",
       "      <td>0_1425</td>\n",
       "      <td>2022-12-20 04:33:37.584749</td>\n",
       "      <td>s_314704</td>\n",
       "      <td>c_304</td>\n",
       "    </tr>\n",
       "    <tr>\n",
       "      <th>679530</th>\n",
       "      <td>0_1994</td>\n",
       "      <td>2021-07-16 20:36:35.350579</td>\n",
       "      <td>s_63204</td>\n",
       "      <td>c_2227</td>\n",
       "    </tr>\n",
       "    <tr>\n",
       "      <th>679531</th>\n",
       "      <td>1_523</td>\n",
       "      <td>2022-09-28 01:12:01.973763</td>\n",
       "      <td>s_274568</td>\n",
       "      <td>c_3873</td>\n",
       "    </tr>\n",
       "  </tbody>\n",
       "</table>\n",
       "<p>679532 rows × 4 columns</p>\n",
       "</div>"
      ],
      "text/plain": [
       "       id_prod                        date session_id client_id\n",
       "0       0_1518  2022-05-20 13:21:29.043970   s_211425     c_103\n",
       "1        1_251  2022-02-02 07:55:19.149409   s_158752    c_8534\n",
       "2       0_1277  2022-06-18 15:44:33.155329   s_225667    c_6714\n",
       "3        2_209  2021-06-24 04:19:29.835891    s_52962    c_6941\n",
       "4       0_1509  2023-01-11 08:22:08.194479   s_325227    c_4232\n",
       "...        ...                         ...        ...       ...\n",
       "679527  0_1551  2022-01-15 13:05:06.246925   s_150195    c_8489\n",
       "679528   1_639  2022-03-19 16:03:23.429229   s_181434    c_4370\n",
       "679529  0_1425  2022-12-20 04:33:37.584749   s_314704     c_304\n",
       "679530  0_1994  2021-07-16 20:36:35.350579    s_63204    c_2227\n",
       "679531   1_523  2022-09-28 01:12:01.973763   s_274568    c_3873\n",
       "\n",
       "[679532 rows x 4 columns]"
      ]
     },
     "execution_count": 18,
     "metadata": {},
     "output_type": "execute_result"
    }
   ],
   "source": [
    "trans"
   ]
  },
  {
   "cell_type": "code",
   "execution_count": 19,
   "id": "115909ab",
   "metadata": {
    "scrolled": true
   },
   "outputs": [
    {
     "name": "stdout",
     "output_type": "stream",
     "text": [
      "<class 'pandas.core.frame.DataFrame'>\n",
      "RangeIndex: 679532 entries, 0 to 679531\n",
      "Data columns (total 4 columns):\n",
      " #   Column      Non-Null Count   Dtype \n",
      "---  ------      --------------   ----- \n",
      " 0   id_prod     679532 non-null  object\n",
      " 1   date        679532 non-null  object\n",
      " 2   session_id  679532 non-null  object\n",
      " 3   client_id   679532 non-null  object\n",
      "dtypes: object(4)\n",
      "memory usage: 20.7+ MB\n"
     ]
    },
    {
     "data": {
      "text/html": [
       "<div>\n",
       "<style scoped>\n",
       "    .dataframe tbody tr th:only-of-type {\n",
       "        vertical-align: middle;\n",
       "    }\n",
       "\n",
       "    .dataframe tbody tr th {\n",
       "        vertical-align: top;\n",
       "    }\n",
       "\n",
       "    .dataframe thead th {\n",
       "        text-align: right;\n",
       "    }\n",
       "</style>\n",
       "<table border=\"1\" class=\"dataframe\">\n",
       "  <thead>\n",
       "    <tr style=\"text-align: right;\">\n",
       "      <th></th>\n",
       "      <th>id_prod</th>\n",
       "      <th>date</th>\n",
       "      <th>session_id</th>\n",
       "      <th>client_id</th>\n",
       "    </tr>\n",
       "  </thead>\n",
       "  <tbody>\n",
       "    <tr>\n",
       "      <th>count</th>\n",
       "      <td>679532</td>\n",
       "      <td>679532</td>\n",
       "      <td>679532</td>\n",
       "      <td>679532</td>\n",
       "    </tr>\n",
       "    <tr>\n",
       "      <th>unique</th>\n",
       "      <td>3267</td>\n",
       "      <td>679371</td>\n",
       "      <td>342316</td>\n",
       "      <td>8602</td>\n",
       "    </tr>\n",
       "    <tr>\n",
       "      <th>top</th>\n",
       "      <td>1_369</td>\n",
       "      <td>test_2021-03-01 02:30:02.237413</td>\n",
       "      <td>s_0</td>\n",
       "      <td>c_1609</td>\n",
       "    </tr>\n",
       "    <tr>\n",
       "      <th>freq</th>\n",
       "      <td>2252</td>\n",
       "      <td>13</td>\n",
       "      <td>200</td>\n",
       "      <td>25488</td>\n",
       "    </tr>\n",
       "  </tbody>\n",
       "</table>\n",
       "</div>"
      ],
      "text/plain": [
       "       id_prod                             date session_id client_id\n",
       "count   679532                           679532     679532    679532\n",
       "unique    3267                           679371     342316      8602\n",
       "top      1_369  test_2021-03-01 02:30:02.237413        s_0    c_1609\n",
       "freq      2252                               13        200     25488"
      ]
     },
     "execution_count": 19,
     "metadata": {},
     "output_type": "execute_result"
    }
   ],
   "source": [
    "trans.info()\n",
    "trans.describe()"
   ]
  },
  {
   "cell_type": "markdown",
   "id": "86a06464",
   "metadata": {},
   "source": [
    "Nous pouvons remarquer dans le top une date test , il va nous falloir vérifier qu'il y en n'ai pas d'autres et ensuite les effacer pour poursuivre l'analyse"
   ]
  },
  {
   "cell_type": "code",
   "execution_count": 20,
   "id": "bb3dad3b",
   "metadata": {},
   "outputs": [
    {
     "data": {
      "text/html": [
       "<div>\n",
       "<style scoped>\n",
       "    .dataframe tbody tr th:only-of-type {\n",
       "        vertical-align: middle;\n",
       "    }\n",
       "\n",
       "    .dataframe tbody tr th {\n",
       "        vertical-align: top;\n",
       "    }\n",
       "\n",
       "    .dataframe thead th {\n",
       "        text-align: right;\n",
       "    }\n",
       "</style>\n",
       "<table border=\"1\" class=\"dataframe\">\n",
       "  <thead>\n",
       "    <tr style=\"text-align: right;\">\n",
       "      <th></th>\n",
       "      <th>id_prod</th>\n",
       "      <th>date</th>\n",
       "      <th>session_id</th>\n",
       "      <th>client_id</th>\n",
       "    </tr>\n",
       "  </thead>\n",
       "  <tbody>\n",
       "    <tr>\n",
       "      <th>3019</th>\n",
       "      <td>T_0</td>\n",
       "      <td>test_2021-03-01 02:30:02.237419</td>\n",
       "      <td>s_0</td>\n",
       "      <td>ct_0</td>\n",
       "    </tr>\n",
       "    <tr>\n",
       "      <th>5138</th>\n",
       "      <td>T_0</td>\n",
       "      <td>test_2021-03-01 02:30:02.237425</td>\n",
       "      <td>s_0</td>\n",
       "      <td>ct_0</td>\n",
       "    </tr>\n",
       "    <tr>\n",
       "      <th>9668</th>\n",
       "      <td>T_0</td>\n",
       "      <td>test_2021-03-01 02:30:02.237437</td>\n",
       "      <td>s_0</td>\n",
       "      <td>ct_1</td>\n",
       "    </tr>\n",
       "    <tr>\n",
       "      <th>10728</th>\n",
       "      <td>T_0</td>\n",
       "      <td>test_2021-03-01 02:30:02.237436</td>\n",
       "      <td>s_0</td>\n",
       "      <td>ct_0</td>\n",
       "    </tr>\n",
       "    <tr>\n",
       "      <th>15292</th>\n",
       "      <td>T_0</td>\n",
       "      <td>test_2021-03-01 02:30:02.237430</td>\n",
       "      <td>s_0</td>\n",
       "      <td>ct_0</td>\n",
       "    </tr>\n",
       "    <tr>\n",
       "      <th>...</th>\n",
       "      <td>...</td>\n",
       "      <td>...</td>\n",
       "      <td>...</td>\n",
       "      <td>...</td>\n",
       "    </tr>\n",
       "    <tr>\n",
       "      <th>657830</th>\n",
       "      <td>T_0</td>\n",
       "      <td>test_2021-03-01 02:30:02.237417</td>\n",
       "      <td>s_0</td>\n",
       "      <td>ct_0</td>\n",
       "    </tr>\n",
       "    <tr>\n",
       "      <th>662081</th>\n",
       "      <td>T_0</td>\n",
       "      <td>test_2021-03-01 02:30:02.237427</td>\n",
       "      <td>s_0</td>\n",
       "      <td>ct_1</td>\n",
       "    </tr>\n",
       "    <tr>\n",
       "      <th>670680</th>\n",
       "      <td>T_0</td>\n",
       "      <td>test_2021-03-01 02:30:02.237449</td>\n",
       "      <td>s_0</td>\n",
       "      <td>ct_1</td>\n",
       "    </tr>\n",
       "    <tr>\n",
       "      <th>671647</th>\n",
       "      <td>T_0</td>\n",
       "      <td>test_2021-03-01 02:30:02.237424</td>\n",
       "      <td>s_0</td>\n",
       "      <td>ct_1</td>\n",
       "    </tr>\n",
       "    <tr>\n",
       "      <th>679180</th>\n",
       "      <td>T_0</td>\n",
       "      <td>test_2021-03-01 02:30:02.237425</td>\n",
       "      <td>s_0</td>\n",
       "      <td>ct_1</td>\n",
       "    </tr>\n",
       "  </tbody>\n",
       "</table>\n",
       "<p>200 rows × 4 columns</p>\n",
       "</div>"
      ],
      "text/plain": [
       "       id_prod                             date session_id client_id\n",
       "3019       T_0  test_2021-03-01 02:30:02.237419        s_0      ct_0\n",
       "5138       T_0  test_2021-03-01 02:30:02.237425        s_0      ct_0\n",
       "9668       T_0  test_2021-03-01 02:30:02.237437        s_0      ct_1\n",
       "10728      T_0  test_2021-03-01 02:30:02.237436        s_0      ct_0\n",
       "15292      T_0  test_2021-03-01 02:30:02.237430        s_0      ct_0\n",
       "...        ...                              ...        ...       ...\n",
       "657830     T_0  test_2021-03-01 02:30:02.237417        s_0      ct_0\n",
       "662081     T_0  test_2021-03-01 02:30:02.237427        s_0      ct_1\n",
       "670680     T_0  test_2021-03-01 02:30:02.237449        s_0      ct_1\n",
       "671647     T_0  test_2021-03-01 02:30:02.237424        s_0      ct_1\n",
       "679180     T_0  test_2021-03-01 02:30:02.237425        s_0      ct_1\n",
       "\n",
       "[200 rows x 4 columns]"
      ]
     },
     "execution_count": 20,
     "metadata": {},
     "output_type": "execute_result"
    }
   ],
   "source": [
    "#isolation des sessions test\n",
    "trans_test= trans[trans['session_id'] == 's_0']\n",
    "trans_test"
   ]
  },
  {
   "cell_type": "code",
   "execution_count": 21,
   "id": "6633038c",
   "metadata": {},
   "outputs": [],
   "source": [
    "# Suppression du produit test:\n",
    "trans.drop(trans[(trans[\"session_id\"] == \"s_0\")].index, inplace=True)"
   ]
  },
  {
   "cell_type": "code",
   "execution_count": 22,
   "id": "d3bc44c2",
   "metadata": {},
   "outputs": [],
   "source": [
    "# Suppression des valeurs aberrantes (test) de la colonne 'date'\n",
    "#trans.drop(trans[trans['date'].str.contains(\"test\")].index,inplace=True)"
   ]
  },
  {
   "cell_type": "code",
   "execution_count": 23,
   "id": "068a64dd",
   "metadata": {},
   "outputs": [
    {
     "data": {
      "text/plain": [
       "id_prod       0\n",
       "date          0\n",
       "session_id    0\n",
       "client_id     0\n",
       "dtype: int64"
      ]
     },
     "execution_count": 23,
     "metadata": {},
     "output_type": "execute_result"
    }
   ],
   "source": [
    "trans.isnull().sum()"
   ]
  },
  {
   "cell_type": "code",
   "execution_count": 24,
   "id": "d0b2becf",
   "metadata": {},
   "outputs": [
    {
     "data": {
      "text/html": [
       "<div>\n",
       "<style scoped>\n",
       "    .dataframe tbody tr th:only-of-type {\n",
       "        vertical-align: middle;\n",
       "    }\n",
       "\n",
       "    .dataframe tbody tr th {\n",
       "        vertical-align: top;\n",
       "    }\n",
       "\n",
       "    .dataframe thead th {\n",
       "        text-align: right;\n",
       "    }\n",
       "</style>\n",
       "<table border=\"1\" class=\"dataframe\">\n",
       "  <thead>\n",
       "    <tr style=\"text-align: right;\">\n",
       "      <th></th>\n",
       "      <th>id_prod</th>\n",
       "      <th>date</th>\n",
       "      <th>session_id</th>\n",
       "      <th>client_id</th>\n",
       "    </tr>\n",
       "  </thead>\n",
       "  <tbody>\n",
       "    <tr>\n",
       "      <th>count</th>\n",
       "      <td>679332</td>\n",
       "      <td>679332</td>\n",
       "      <td>679332</td>\n",
       "      <td>679332</td>\n",
       "    </tr>\n",
       "    <tr>\n",
       "      <th>unique</th>\n",
       "      <td>3266</td>\n",
       "      <td>679332</td>\n",
       "      <td>342315</td>\n",
       "      <td>8600</td>\n",
       "    </tr>\n",
       "    <tr>\n",
       "      <th>top</th>\n",
       "      <td>1_369</td>\n",
       "      <td>2022-05-20 13:21:29.043970</td>\n",
       "      <td>s_118668</td>\n",
       "      <td>c_1609</td>\n",
       "    </tr>\n",
       "    <tr>\n",
       "      <th>freq</th>\n",
       "      <td>2252</td>\n",
       "      <td>1</td>\n",
       "      <td>14</td>\n",
       "      <td>25488</td>\n",
       "    </tr>\n",
       "  </tbody>\n",
       "</table>\n",
       "</div>"
      ],
      "text/plain": [
       "       id_prod                        date session_id client_id\n",
       "count   679332                      679332     679332    679332\n",
       "unique    3266                      679332     342315      8600\n",
       "top      1_369  2022-05-20 13:21:29.043970   s_118668    c_1609\n",
       "freq      2252                           1         14     25488"
      ]
     },
     "execution_count": 24,
     "metadata": {},
     "output_type": "execute_result"
    }
   ],
   "source": [
    "trans.describe()"
   ]
  },
  {
   "cell_type": "markdown",
   "id": "1bbb5d2e",
   "metadata": {},
   "source": [
    "les produits test ont bien été supprimés"
   ]
  },
  {
   "cell_type": "code",
   "execution_count": 25,
   "id": "1683960f",
   "metadata": {},
   "outputs": [
    {
     "data": {
      "text/plain": [
       "id_prod       0\n",
       "date          0\n",
       "session_id    0\n",
       "client_id     0\n",
       "dtype: int64"
      ]
     },
     "execution_count": 25,
     "metadata": {},
     "output_type": "execute_result"
    }
   ],
   "source": [
    "trans.isnull().sum()"
   ]
  },
  {
   "cell_type": "markdown",
   "id": "0ce47272",
   "metadata": {},
   "source": [
    "**Jointure des dataframes:** <a class=\"anchor\" id=\"jointure\"></a>\n",
    "\n",
    "[Sommaire](#Sommaire)"
   ]
  },
  {
   "cell_type": "markdown",
   "id": "d29e0896",
   "metadata": {},
   "source": [
    "les références sont à l'extérieur de la dataframe transaction il est important ici de faire les deux jointures en outer afin de pouvoir relier l'ensemble des dataframes"
   ]
  },
  {
   "cell_type": "code",
   "execution_count": 26,
   "id": "1b35e3dc",
   "metadata": {},
   "outputs": [],
   "source": [
    "interm_df =  pd.merge(trans, id_client, on = [\"client_id\"], how = \"outer\", indicator = True)"
   ]
  },
  {
   "cell_type": "code",
   "execution_count": 27,
   "id": "58c7068c",
   "metadata": {},
   "outputs": [
    {
     "data": {
      "text/plain": [
       "id_prod       21\n",
       "date          21\n",
       "session_id    21\n",
       "client_id      0\n",
       "sex            0\n",
       "birth          0\n",
       "_merge         0\n",
       "dtype: int64"
      ]
     },
     "execution_count": 27,
     "metadata": {},
     "output_type": "execute_result"
    }
   ],
   "source": [
    "interm_df.isnull().sum()"
   ]
  },
  {
   "cell_type": "code",
   "execution_count": 28,
   "id": "31bf8178",
   "metadata": {},
   "outputs": [
    {
     "data": {
      "text/plain": [
       "['both', 'right_only']\n",
       "Categories (3, object): ['left_only', 'right_only', 'both']"
      ]
     },
     "execution_count": 28,
     "metadata": {},
     "output_type": "execute_result"
    }
   ],
   "source": [
    "interm_df['_merge'].unique()"
   ]
  },
  {
   "cell_type": "code",
   "execution_count": 29,
   "id": "ef09ad6a",
   "metadata": {},
   "outputs": [
    {
     "data": {
      "text/html": [
       "<div>\n",
       "<style scoped>\n",
       "    .dataframe tbody tr th:only-of-type {\n",
       "        vertical-align: middle;\n",
       "    }\n",
       "\n",
       "    .dataframe tbody tr th {\n",
       "        vertical-align: top;\n",
       "    }\n",
       "\n",
       "    .dataframe thead th {\n",
       "        text-align: right;\n",
       "    }\n",
       "</style>\n",
       "<table border=\"1\" class=\"dataframe\">\n",
       "  <thead>\n",
       "    <tr style=\"text-align: right;\">\n",
       "      <th></th>\n",
       "      <th>id_prod</th>\n",
       "      <th>date</th>\n",
       "      <th>session_id</th>\n",
       "      <th>client_id</th>\n",
       "      <th>sex</th>\n",
       "      <th>birth</th>\n",
       "      <th>_merge</th>\n",
       "    </tr>\n",
       "  </thead>\n",
       "  <tbody>\n",
       "    <tr>\n",
       "      <th>679332</th>\n",
       "      <td>NaN</td>\n",
       "      <td>NaN</td>\n",
       "      <td>NaN</td>\n",
       "      <td>c_8253</td>\n",
       "      <td>f</td>\n",
       "      <td>2001</td>\n",
       "      <td>right_only</td>\n",
       "    </tr>\n",
       "    <tr>\n",
       "      <th>679333</th>\n",
       "      <td>NaN</td>\n",
       "      <td>NaN</td>\n",
       "      <td>NaN</td>\n",
       "      <td>c_3789</td>\n",
       "      <td>f</td>\n",
       "      <td>1997</td>\n",
       "      <td>right_only</td>\n",
       "    </tr>\n",
       "    <tr>\n",
       "      <th>679334</th>\n",
       "      <td>NaN</td>\n",
       "      <td>NaN</td>\n",
       "      <td>NaN</td>\n",
       "      <td>c_4406</td>\n",
       "      <td>f</td>\n",
       "      <td>1998</td>\n",
       "      <td>right_only</td>\n",
       "    </tr>\n",
       "    <tr>\n",
       "      <th>679335</th>\n",
       "      <td>NaN</td>\n",
       "      <td>NaN</td>\n",
       "      <td>NaN</td>\n",
       "      <td>c_2706</td>\n",
       "      <td>f</td>\n",
       "      <td>1967</td>\n",
       "      <td>right_only</td>\n",
       "    </tr>\n",
       "    <tr>\n",
       "      <th>679336</th>\n",
       "      <td>NaN</td>\n",
       "      <td>NaN</td>\n",
       "      <td>NaN</td>\n",
       "      <td>c_3443</td>\n",
       "      <td>m</td>\n",
       "      <td>1959</td>\n",
       "      <td>right_only</td>\n",
       "    </tr>\n",
       "    <tr>\n",
       "      <th>679337</th>\n",
       "      <td>NaN</td>\n",
       "      <td>NaN</td>\n",
       "      <td>NaN</td>\n",
       "      <td>c_4447</td>\n",
       "      <td>m</td>\n",
       "      <td>1956</td>\n",
       "      <td>right_only</td>\n",
       "    </tr>\n",
       "    <tr>\n",
       "      <th>679338</th>\n",
       "      <td>NaN</td>\n",
       "      <td>NaN</td>\n",
       "      <td>NaN</td>\n",
       "      <td>c_3017</td>\n",
       "      <td>f</td>\n",
       "      <td>1992</td>\n",
       "      <td>right_only</td>\n",
       "    </tr>\n",
       "    <tr>\n",
       "      <th>679339</th>\n",
       "      <td>NaN</td>\n",
       "      <td>NaN</td>\n",
       "      <td>NaN</td>\n",
       "      <td>c_4086</td>\n",
       "      <td>f</td>\n",
       "      <td>1992</td>\n",
       "      <td>right_only</td>\n",
       "    </tr>\n",
       "    <tr>\n",
       "      <th>679340</th>\n",
       "      <td>NaN</td>\n",
       "      <td>NaN</td>\n",
       "      <td>NaN</td>\n",
       "      <td>c_6930</td>\n",
       "      <td>m</td>\n",
       "      <td>2004</td>\n",
       "      <td>right_only</td>\n",
       "    </tr>\n",
       "    <tr>\n",
       "      <th>679341</th>\n",
       "      <td>NaN</td>\n",
       "      <td>NaN</td>\n",
       "      <td>NaN</td>\n",
       "      <td>c_4358</td>\n",
       "      <td>m</td>\n",
       "      <td>1999</td>\n",
       "      <td>right_only</td>\n",
       "    </tr>\n",
       "    <tr>\n",
       "      <th>679342</th>\n",
       "      <td>NaN</td>\n",
       "      <td>NaN</td>\n",
       "      <td>NaN</td>\n",
       "      <td>c_8381</td>\n",
       "      <td>f</td>\n",
       "      <td>1965</td>\n",
       "      <td>right_only</td>\n",
       "    </tr>\n",
       "    <tr>\n",
       "      <th>679343</th>\n",
       "      <td>NaN</td>\n",
       "      <td>NaN</td>\n",
       "      <td>NaN</td>\n",
       "      <td>c_1223</td>\n",
       "      <td>m</td>\n",
       "      <td>1963</td>\n",
       "      <td>right_only</td>\n",
       "    </tr>\n",
       "    <tr>\n",
       "      <th>679344</th>\n",
       "      <td>NaN</td>\n",
       "      <td>NaN</td>\n",
       "      <td>NaN</td>\n",
       "      <td>c_6862</td>\n",
       "      <td>f</td>\n",
       "      <td>2002</td>\n",
       "      <td>right_only</td>\n",
       "    </tr>\n",
       "    <tr>\n",
       "      <th>679345</th>\n",
       "      <td>NaN</td>\n",
       "      <td>NaN</td>\n",
       "      <td>NaN</td>\n",
       "      <td>c_5245</td>\n",
       "      <td>f</td>\n",
       "      <td>2004</td>\n",
       "      <td>right_only</td>\n",
       "    </tr>\n",
       "    <tr>\n",
       "      <th>679346</th>\n",
       "      <td>NaN</td>\n",
       "      <td>NaN</td>\n",
       "      <td>NaN</td>\n",
       "      <td>c_5223</td>\n",
       "      <td>m</td>\n",
       "      <td>2003</td>\n",
       "      <td>right_only</td>\n",
       "    </tr>\n",
       "    <tr>\n",
       "      <th>679347</th>\n",
       "      <td>NaN</td>\n",
       "      <td>NaN</td>\n",
       "      <td>NaN</td>\n",
       "      <td>c_6735</td>\n",
       "      <td>m</td>\n",
       "      <td>2004</td>\n",
       "      <td>right_only</td>\n",
       "    </tr>\n",
       "    <tr>\n",
       "      <th>679348</th>\n",
       "      <td>NaN</td>\n",
       "      <td>NaN</td>\n",
       "      <td>NaN</td>\n",
       "      <td>c_862</td>\n",
       "      <td>f</td>\n",
       "      <td>1956</td>\n",
       "      <td>right_only</td>\n",
       "    </tr>\n",
       "    <tr>\n",
       "      <th>679349</th>\n",
       "      <td>NaN</td>\n",
       "      <td>NaN</td>\n",
       "      <td>NaN</td>\n",
       "      <td>c_7584</td>\n",
       "      <td>f</td>\n",
       "      <td>1960</td>\n",
       "      <td>right_only</td>\n",
       "    </tr>\n",
       "    <tr>\n",
       "      <th>679350</th>\n",
       "      <td>NaN</td>\n",
       "      <td>NaN</td>\n",
       "      <td>NaN</td>\n",
       "      <td>c_90</td>\n",
       "      <td>m</td>\n",
       "      <td>2001</td>\n",
       "      <td>right_only</td>\n",
       "    </tr>\n",
       "    <tr>\n",
       "      <th>679351</th>\n",
       "      <td>NaN</td>\n",
       "      <td>NaN</td>\n",
       "      <td>NaN</td>\n",
       "      <td>c_587</td>\n",
       "      <td>m</td>\n",
       "      <td>1993</td>\n",
       "      <td>right_only</td>\n",
       "    </tr>\n",
       "    <tr>\n",
       "      <th>679352</th>\n",
       "      <td>NaN</td>\n",
       "      <td>NaN</td>\n",
       "      <td>NaN</td>\n",
       "      <td>c_3526</td>\n",
       "      <td>m</td>\n",
       "      <td>1956</td>\n",
       "      <td>right_only</td>\n",
       "    </tr>\n",
       "  </tbody>\n",
       "</table>\n",
       "</div>"
      ],
      "text/plain": [
       "       id_prod date session_id client_id sex  birth      _merge\n",
       "679332     NaN  NaN        NaN    c_8253   f   2001  right_only\n",
       "679333     NaN  NaN        NaN    c_3789   f   1997  right_only\n",
       "679334     NaN  NaN        NaN    c_4406   f   1998  right_only\n",
       "679335     NaN  NaN        NaN    c_2706   f   1967  right_only\n",
       "679336     NaN  NaN        NaN    c_3443   m   1959  right_only\n",
       "679337     NaN  NaN        NaN    c_4447   m   1956  right_only\n",
       "679338     NaN  NaN        NaN    c_3017   f   1992  right_only\n",
       "679339     NaN  NaN        NaN    c_4086   f   1992  right_only\n",
       "679340     NaN  NaN        NaN    c_6930   m   2004  right_only\n",
       "679341     NaN  NaN        NaN    c_4358   m   1999  right_only\n",
       "679342     NaN  NaN        NaN    c_8381   f   1965  right_only\n",
       "679343     NaN  NaN        NaN    c_1223   m   1963  right_only\n",
       "679344     NaN  NaN        NaN    c_6862   f   2002  right_only\n",
       "679345     NaN  NaN        NaN    c_5245   f   2004  right_only\n",
       "679346     NaN  NaN        NaN    c_5223   m   2003  right_only\n",
       "679347     NaN  NaN        NaN    c_6735   m   2004  right_only\n",
       "679348     NaN  NaN        NaN     c_862   f   1956  right_only\n",
       "679349     NaN  NaN        NaN    c_7584   f   1960  right_only\n",
       "679350     NaN  NaN        NaN      c_90   m   2001  right_only\n",
       "679351     NaN  NaN        NaN     c_587   m   1993  right_only\n",
       "679352     NaN  NaN        NaN    c_3526   m   1956  right_only"
      ]
     },
     "execution_count": 29,
     "metadata": {},
     "output_type": "execute_result"
    }
   ],
   "source": [
    "interm_df[interm_df['_merge'] == 'right_only']"
   ]
  },
  {
   "cell_type": "markdown",
   "id": "489dbe6d",
   "metadata": {},
   "source": [
    "Liste des 21 clients qui n'ont fait aucun achat en ligne"
   ]
  },
  {
   "cell_type": "code",
   "execution_count": 30,
   "id": "0c32df72",
   "metadata": {},
   "outputs": [],
   "source": [
    "#Isolation des clients qui n'ont fait aucun achat\n",
    "interm_df_right_only = interm_df[interm_df['_merge'] == 'right_only']"
   ]
  },
  {
   "cell_type": "code",
   "execution_count": 31,
   "id": "9eb643a8",
   "metadata": {},
   "outputs": [],
   "source": [
    "interm_df =interm_df.dropna(subset = ['id_prod'])"
   ]
  },
  {
   "cell_type": "code",
   "execution_count": 32,
   "id": "5b372a34",
   "metadata": {},
   "outputs": [
    {
     "data": {
      "text/plain": [
       "id_prod       0\n",
       "date          0\n",
       "session_id    0\n",
       "client_id     0\n",
       "sex           0\n",
       "birth         0\n",
       "_merge        0\n",
       "dtype: int64"
      ]
     },
     "execution_count": 32,
     "metadata": {},
     "output_type": "execute_result"
    }
   ],
   "source": [
    "interm_df.isnull().sum()"
   ]
  },
  {
   "cell_type": "code",
   "execution_count": 33,
   "id": "df39334c",
   "metadata": {},
   "outputs": [],
   "source": [
    "interm_df =  pd.merge(trans, id_client, on = [\"client_id\"], how = \"inner\")"
   ]
  },
  {
   "cell_type": "code",
   "execution_count": 34,
   "id": "ddb32679",
   "metadata": {},
   "outputs": [
    {
     "data": {
      "text/plain": [
       "id_prod       0\n",
       "date          0\n",
       "session_id    0\n",
       "client_id     0\n",
       "sex           0\n",
       "birth         0\n",
       "dtype: int64"
      ]
     },
     "execution_count": 34,
     "metadata": {},
     "output_type": "execute_result"
    }
   ],
   "source": [
    "interm_df.isnull().sum()"
   ]
  },
  {
   "cell_type": "code",
   "execution_count": 35,
   "id": "439c7592",
   "metadata": {},
   "outputs": [],
   "source": [
    "complet_df =  pd.merge(interm_df, id_prod, on = [\"id_prod\"], how = \"outer\", indicator = True)"
   ]
  },
  {
   "cell_type": "code",
   "execution_count": 36,
   "id": "fd7da696",
   "metadata": {},
   "outputs": [
    {
     "data": {
      "text/plain": [
       "id_prod         0\n",
       "date           22\n",
       "session_id     22\n",
       "client_id      22\n",
       "sex            22\n",
       "birth          22\n",
       "price         221\n",
       "categ         221\n",
       "_merge          0\n",
       "dtype: int64"
      ]
     },
     "execution_count": 36,
     "metadata": {},
     "output_type": "execute_result"
    }
   ],
   "source": [
    "complet_df.isna().sum()"
   ]
  },
  {
   "cell_type": "code",
   "execution_count": 37,
   "id": "06318e4a",
   "metadata": {},
   "outputs": [
    {
     "data": {
      "text/plain": [
       "['both', 'left_only', 'right_only']\n",
       "Categories (3, object): ['left_only', 'right_only', 'both']"
      ]
     },
     "execution_count": 37,
     "metadata": {},
     "output_type": "execute_result"
    }
   ],
   "source": [
    "complet_df['_merge'].unique()"
   ]
  },
  {
   "cell_type": "code",
   "execution_count": 38,
   "id": "8ec529b0",
   "metadata": {},
   "outputs": [
    {
     "data": {
      "text/html": [
       "<div>\n",
       "<style scoped>\n",
       "    .dataframe tbody tr th:only-of-type {\n",
       "        vertical-align: middle;\n",
       "    }\n",
       "\n",
       "    .dataframe tbody tr th {\n",
       "        vertical-align: top;\n",
       "    }\n",
       "\n",
       "    .dataframe thead th {\n",
       "        text-align: right;\n",
       "    }\n",
       "</style>\n",
       "<table border=\"1\" class=\"dataframe\">\n",
       "  <thead>\n",
       "    <tr style=\"text-align: right;\">\n",
       "      <th></th>\n",
       "      <th>id_prod</th>\n",
       "      <th>date</th>\n",
       "      <th>session_id</th>\n",
       "      <th>client_id</th>\n",
       "      <th>sex</th>\n",
       "      <th>birth</th>\n",
       "      <th>price</th>\n",
       "      <th>categ</th>\n",
       "      <th>_merge</th>\n",
       "    </tr>\n",
       "  </thead>\n",
       "  <tbody>\n",
       "    <tr>\n",
       "      <th>679332</th>\n",
       "      <td>0_1016</td>\n",
       "      <td>NaN</td>\n",
       "      <td>NaN</td>\n",
       "      <td>NaN</td>\n",
       "      <td>NaN</td>\n",
       "      <td>NaN</td>\n",
       "      <td>35.06</td>\n",
       "      <td>0.0</td>\n",
       "      <td>right_only</td>\n",
       "    </tr>\n",
       "    <tr>\n",
       "      <th>679333</th>\n",
       "      <td>0_1780</td>\n",
       "      <td>NaN</td>\n",
       "      <td>NaN</td>\n",
       "      <td>NaN</td>\n",
       "      <td>NaN</td>\n",
       "      <td>NaN</td>\n",
       "      <td>1.67</td>\n",
       "      <td>0.0</td>\n",
       "      <td>right_only</td>\n",
       "    </tr>\n",
       "    <tr>\n",
       "      <th>679334</th>\n",
       "      <td>T_0</td>\n",
       "      <td>NaN</td>\n",
       "      <td>NaN</td>\n",
       "      <td>NaN</td>\n",
       "      <td>NaN</td>\n",
       "      <td>NaN</td>\n",
       "      <td>-1.00</td>\n",
       "      <td>0.0</td>\n",
       "      <td>right_only</td>\n",
       "    </tr>\n",
       "    <tr>\n",
       "      <th>679335</th>\n",
       "      <td>0_1062</td>\n",
       "      <td>NaN</td>\n",
       "      <td>NaN</td>\n",
       "      <td>NaN</td>\n",
       "      <td>NaN</td>\n",
       "      <td>NaN</td>\n",
       "      <td>20.08</td>\n",
       "      <td>0.0</td>\n",
       "      <td>right_only</td>\n",
       "    </tr>\n",
       "    <tr>\n",
       "      <th>679336</th>\n",
       "      <td>0_1119</td>\n",
       "      <td>NaN</td>\n",
       "      <td>NaN</td>\n",
       "      <td>NaN</td>\n",
       "      <td>NaN</td>\n",
       "      <td>NaN</td>\n",
       "      <td>2.99</td>\n",
       "      <td>0.0</td>\n",
       "      <td>right_only</td>\n",
       "    </tr>\n",
       "    <tr>\n",
       "      <th>679337</th>\n",
       "      <td>0_1014</td>\n",
       "      <td>NaN</td>\n",
       "      <td>NaN</td>\n",
       "      <td>NaN</td>\n",
       "      <td>NaN</td>\n",
       "      <td>NaN</td>\n",
       "      <td>1.15</td>\n",
       "      <td>0.0</td>\n",
       "      <td>right_only</td>\n",
       "    </tr>\n",
       "    <tr>\n",
       "      <th>679338</th>\n",
       "      <td>1_0</td>\n",
       "      <td>NaN</td>\n",
       "      <td>NaN</td>\n",
       "      <td>NaN</td>\n",
       "      <td>NaN</td>\n",
       "      <td>NaN</td>\n",
       "      <td>31.82</td>\n",
       "      <td>1.0</td>\n",
       "      <td>right_only</td>\n",
       "    </tr>\n",
       "    <tr>\n",
       "      <th>679339</th>\n",
       "      <td>0_1318</td>\n",
       "      <td>NaN</td>\n",
       "      <td>NaN</td>\n",
       "      <td>NaN</td>\n",
       "      <td>NaN</td>\n",
       "      <td>NaN</td>\n",
       "      <td>20.92</td>\n",
       "      <td>0.0</td>\n",
       "      <td>right_only</td>\n",
       "    </tr>\n",
       "    <tr>\n",
       "      <th>679340</th>\n",
       "      <td>0_1800</td>\n",
       "      <td>NaN</td>\n",
       "      <td>NaN</td>\n",
       "      <td>NaN</td>\n",
       "      <td>NaN</td>\n",
       "      <td>NaN</td>\n",
       "      <td>22.05</td>\n",
       "      <td>0.0</td>\n",
       "      <td>right_only</td>\n",
       "    </tr>\n",
       "    <tr>\n",
       "      <th>679341</th>\n",
       "      <td>0_1645</td>\n",
       "      <td>NaN</td>\n",
       "      <td>NaN</td>\n",
       "      <td>NaN</td>\n",
       "      <td>NaN</td>\n",
       "      <td>NaN</td>\n",
       "      <td>2.99</td>\n",
       "      <td>0.0</td>\n",
       "      <td>right_only</td>\n",
       "    </tr>\n",
       "    <tr>\n",
       "      <th>679342</th>\n",
       "      <td>0_322</td>\n",
       "      <td>NaN</td>\n",
       "      <td>NaN</td>\n",
       "      <td>NaN</td>\n",
       "      <td>NaN</td>\n",
       "      <td>NaN</td>\n",
       "      <td>2.99</td>\n",
       "      <td>0.0</td>\n",
       "      <td>right_only</td>\n",
       "    </tr>\n",
       "    <tr>\n",
       "      <th>679343</th>\n",
       "      <td>0_1620</td>\n",
       "      <td>NaN</td>\n",
       "      <td>NaN</td>\n",
       "      <td>NaN</td>\n",
       "      <td>NaN</td>\n",
       "      <td>NaN</td>\n",
       "      <td>0.80</td>\n",
       "      <td>0.0</td>\n",
       "      <td>right_only</td>\n",
       "    </tr>\n",
       "    <tr>\n",
       "      <th>679344</th>\n",
       "      <td>0_1025</td>\n",
       "      <td>NaN</td>\n",
       "      <td>NaN</td>\n",
       "      <td>NaN</td>\n",
       "      <td>NaN</td>\n",
       "      <td>NaN</td>\n",
       "      <td>24.99</td>\n",
       "      <td>0.0</td>\n",
       "      <td>right_only</td>\n",
       "    </tr>\n",
       "    <tr>\n",
       "      <th>679345</th>\n",
       "      <td>2_87</td>\n",
       "      <td>NaN</td>\n",
       "      <td>NaN</td>\n",
       "      <td>NaN</td>\n",
       "      <td>NaN</td>\n",
       "      <td>NaN</td>\n",
       "      <td>220.99</td>\n",
       "      <td>2.0</td>\n",
       "      <td>right_only</td>\n",
       "    </tr>\n",
       "    <tr>\n",
       "      <th>679346</th>\n",
       "      <td>1_394</td>\n",
       "      <td>NaN</td>\n",
       "      <td>NaN</td>\n",
       "      <td>NaN</td>\n",
       "      <td>NaN</td>\n",
       "      <td>NaN</td>\n",
       "      <td>39.73</td>\n",
       "      <td>1.0</td>\n",
       "      <td>right_only</td>\n",
       "    </tr>\n",
       "    <tr>\n",
       "      <th>679347</th>\n",
       "      <td>2_72</td>\n",
       "      <td>NaN</td>\n",
       "      <td>NaN</td>\n",
       "      <td>NaN</td>\n",
       "      <td>NaN</td>\n",
       "      <td>NaN</td>\n",
       "      <td>141.32</td>\n",
       "      <td>2.0</td>\n",
       "      <td>right_only</td>\n",
       "    </tr>\n",
       "    <tr>\n",
       "      <th>679348</th>\n",
       "      <td>0_310</td>\n",
       "      <td>NaN</td>\n",
       "      <td>NaN</td>\n",
       "      <td>NaN</td>\n",
       "      <td>NaN</td>\n",
       "      <td>NaN</td>\n",
       "      <td>1.94</td>\n",
       "      <td>0.0</td>\n",
       "      <td>right_only</td>\n",
       "    </tr>\n",
       "    <tr>\n",
       "      <th>679349</th>\n",
       "      <td>0_1624</td>\n",
       "      <td>NaN</td>\n",
       "      <td>NaN</td>\n",
       "      <td>NaN</td>\n",
       "      <td>NaN</td>\n",
       "      <td>NaN</td>\n",
       "      <td>24.50</td>\n",
       "      <td>0.0</td>\n",
       "      <td>right_only</td>\n",
       "    </tr>\n",
       "    <tr>\n",
       "      <th>679350</th>\n",
       "      <td>2_86</td>\n",
       "      <td>NaN</td>\n",
       "      <td>NaN</td>\n",
       "      <td>NaN</td>\n",
       "      <td>NaN</td>\n",
       "      <td>NaN</td>\n",
       "      <td>132.36</td>\n",
       "      <td>2.0</td>\n",
       "      <td>right_only</td>\n",
       "    </tr>\n",
       "    <tr>\n",
       "      <th>679351</th>\n",
       "      <td>0_299</td>\n",
       "      <td>NaN</td>\n",
       "      <td>NaN</td>\n",
       "      <td>NaN</td>\n",
       "      <td>NaN</td>\n",
       "      <td>NaN</td>\n",
       "      <td>22.99</td>\n",
       "      <td>0.0</td>\n",
       "      <td>right_only</td>\n",
       "    </tr>\n",
       "    <tr>\n",
       "      <th>679352</th>\n",
       "      <td>0_510</td>\n",
       "      <td>NaN</td>\n",
       "      <td>NaN</td>\n",
       "      <td>NaN</td>\n",
       "      <td>NaN</td>\n",
       "      <td>NaN</td>\n",
       "      <td>23.66</td>\n",
       "      <td>0.0</td>\n",
       "      <td>right_only</td>\n",
       "    </tr>\n",
       "    <tr>\n",
       "      <th>679353</th>\n",
       "      <td>0_2308</td>\n",
       "      <td>NaN</td>\n",
       "      <td>NaN</td>\n",
       "      <td>NaN</td>\n",
       "      <td>NaN</td>\n",
       "      <td>NaN</td>\n",
       "      <td>20.28</td>\n",
       "      <td>0.0</td>\n",
       "      <td>right_only</td>\n",
       "    </tr>\n",
       "  </tbody>\n",
       "</table>\n",
       "</div>"
      ],
      "text/plain": [
       "       id_prod date session_id client_id  sex  birth   price  categ  \\\n",
       "679332  0_1016  NaN        NaN       NaN  NaN    NaN   35.06    0.0   \n",
       "679333  0_1780  NaN        NaN       NaN  NaN    NaN    1.67    0.0   \n",
       "679334     T_0  NaN        NaN       NaN  NaN    NaN   -1.00    0.0   \n",
       "679335  0_1062  NaN        NaN       NaN  NaN    NaN   20.08    0.0   \n",
       "679336  0_1119  NaN        NaN       NaN  NaN    NaN    2.99    0.0   \n",
       "679337  0_1014  NaN        NaN       NaN  NaN    NaN    1.15    0.0   \n",
       "679338     1_0  NaN        NaN       NaN  NaN    NaN   31.82    1.0   \n",
       "679339  0_1318  NaN        NaN       NaN  NaN    NaN   20.92    0.0   \n",
       "679340  0_1800  NaN        NaN       NaN  NaN    NaN   22.05    0.0   \n",
       "679341  0_1645  NaN        NaN       NaN  NaN    NaN    2.99    0.0   \n",
       "679342   0_322  NaN        NaN       NaN  NaN    NaN    2.99    0.0   \n",
       "679343  0_1620  NaN        NaN       NaN  NaN    NaN    0.80    0.0   \n",
       "679344  0_1025  NaN        NaN       NaN  NaN    NaN   24.99    0.0   \n",
       "679345    2_87  NaN        NaN       NaN  NaN    NaN  220.99    2.0   \n",
       "679346   1_394  NaN        NaN       NaN  NaN    NaN   39.73    1.0   \n",
       "679347    2_72  NaN        NaN       NaN  NaN    NaN  141.32    2.0   \n",
       "679348   0_310  NaN        NaN       NaN  NaN    NaN    1.94    0.0   \n",
       "679349  0_1624  NaN        NaN       NaN  NaN    NaN   24.50    0.0   \n",
       "679350    2_86  NaN        NaN       NaN  NaN    NaN  132.36    2.0   \n",
       "679351   0_299  NaN        NaN       NaN  NaN    NaN   22.99    0.0   \n",
       "679352   0_510  NaN        NaN       NaN  NaN    NaN   23.66    0.0   \n",
       "679353  0_2308  NaN        NaN       NaN  NaN    NaN   20.28    0.0   \n",
       "\n",
       "            _merge  \n",
       "679332  right_only  \n",
       "679333  right_only  \n",
       "679334  right_only  \n",
       "679335  right_only  \n",
       "679336  right_only  \n",
       "679337  right_only  \n",
       "679338  right_only  \n",
       "679339  right_only  \n",
       "679340  right_only  \n",
       "679341  right_only  \n",
       "679342  right_only  \n",
       "679343  right_only  \n",
       "679344  right_only  \n",
       "679345  right_only  \n",
       "679346  right_only  \n",
       "679347  right_only  \n",
       "679348  right_only  \n",
       "679349  right_only  \n",
       "679350  right_only  \n",
       "679351  right_only  \n",
       "679352  right_only  \n",
       "679353  right_only  "
      ]
     },
     "execution_count": 38,
     "metadata": {},
     "output_type": "execute_result"
    }
   ],
   "source": [
    "Complet_df_right= complet_df[complet_df['_merge'] == 'right_only']\n",
    "Complet_df_right"
   ]
  },
  {
   "cell_type": "code",
   "execution_count": 39,
   "id": "5fb59473",
   "metadata": {},
   "outputs": [
    {
     "data": {
      "text/html": [
       "<div>\n",
       "<style scoped>\n",
       "    .dataframe tbody tr th:only-of-type {\n",
       "        vertical-align: middle;\n",
       "    }\n",
       "\n",
       "    .dataframe tbody tr th {\n",
       "        vertical-align: top;\n",
       "    }\n",
       "\n",
       "    .dataframe thead th {\n",
       "        text-align: right;\n",
       "    }\n",
       "</style>\n",
       "<table border=\"1\" class=\"dataframe\">\n",
       "  <thead>\n",
       "    <tr style=\"text-align: right;\">\n",
       "      <th></th>\n",
       "      <th>id_prod</th>\n",
       "      <th>date</th>\n",
       "      <th>session_id</th>\n",
       "      <th>client_id</th>\n",
       "      <th>sex</th>\n",
       "      <th>birth</th>\n",
       "      <th>price</th>\n",
       "      <th>categ</th>\n",
       "      <th>_merge</th>\n",
       "    </tr>\n",
       "  </thead>\n",
       "  <tbody>\n",
       "    <tr>\n",
       "      <th>311747</th>\n",
       "      <td>0_2245</td>\n",
       "      <td>2021-04-22 04:57:20.090378</td>\n",
       "      <td>s_23987</td>\n",
       "      <td>c_6714</td>\n",
       "      <td>f</td>\n",
       "      <td>1968.0</td>\n",
       "      <td>NaN</td>\n",
       "      <td>NaN</td>\n",
       "      <td>left_only</td>\n",
       "    </tr>\n",
       "    <tr>\n",
       "      <th>311748</th>\n",
       "      <td>0_2245</td>\n",
       "      <td>2021-06-05 17:04:43.982913</td>\n",
       "      <td>s_44481</td>\n",
       "      <td>c_6714</td>\n",
       "      <td>f</td>\n",
       "      <td>1968.0</td>\n",
       "      <td>NaN</td>\n",
       "      <td>NaN</td>\n",
       "      <td>left_only</td>\n",
       "    </tr>\n",
       "    <tr>\n",
       "      <th>311749</th>\n",
       "      <td>0_2245</td>\n",
       "      <td>2022-04-05 17:04:43.982913</td>\n",
       "      <td>s_189669</td>\n",
       "      <td>c_6714</td>\n",
       "      <td>f</td>\n",
       "      <td>1968.0</td>\n",
       "      <td>NaN</td>\n",
       "      <td>NaN</td>\n",
       "      <td>left_only</td>\n",
       "    </tr>\n",
       "    <tr>\n",
       "      <th>311750</th>\n",
       "      <td>0_2245</td>\n",
       "      <td>2022-05-05 17:04:43.982913</td>\n",
       "      <td>s_204093</td>\n",
       "      <td>c_6714</td>\n",
       "      <td>f</td>\n",
       "      <td>1968.0</td>\n",
       "      <td>NaN</td>\n",
       "      <td>NaN</td>\n",
       "      <td>left_only</td>\n",
       "    </tr>\n",
       "    <tr>\n",
       "      <th>311751</th>\n",
       "      <td>0_2245</td>\n",
       "      <td>2022-12-05 17:04:43.982913</td>\n",
       "      <td>s_307520</td>\n",
       "      <td>c_6714</td>\n",
       "      <td>f</td>\n",
       "      <td>1968.0</td>\n",
       "      <td>NaN</td>\n",
       "      <td>NaN</td>\n",
       "      <td>left_only</td>\n",
       "    </tr>\n",
       "    <tr>\n",
       "      <th>...</th>\n",
       "      <td>...</td>\n",
       "      <td>...</td>\n",
       "      <td>...</td>\n",
       "      <td>...</td>\n",
       "      <td>...</td>\n",
       "      <td>...</td>\n",
       "      <td>...</td>\n",
       "      <td>...</td>\n",
       "      <td>...</td>\n",
       "    </tr>\n",
       "    <tr>\n",
       "      <th>311963</th>\n",
       "      <td>0_2245</td>\n",
       "      <td>2021-10-19 09:32:03.667461</td>\n",
       "      <td>s_107022</td>\n",
       "      <td>c_6128</td>\n",
       "      <td>m</td>\n",
       "      <td>1986.0</td>\n",
       "      <td>NaN</td>\n",
       "      <td>NaN</td>\n",
       "      <td>left_only</td>\n",
       "    </tr>\n",
       "    <tr>\n",
       "      <th>311964</th>\n",
       "      <td>0_2245</td>\n",
       "      <td>2021-11-12 09:25:22.905886</td>\n",
       "      <td>s_118458</td>\n",
       "      <td>c_7416</td>\n",
       "      <td>m</td>\n",
       "      <td>1933.0</td>\n",
       "      <td>NaN</td>\n",
       "      <td>NaN</td>\n",
       "      <td>left_only</td>\n",
       "    </tr>\n",
       "    <tr>\n",
       "      <th>311965</th>\n",
       "      <td>0_2245</td>\n",
       "      <td>2021-08-22 08:51:27.564509</td>\n",
       "      <td>s_79102</td>\n",
       "      <td>c_6752</td>\n",
       "      <td>m</td>\n",
       "      <td>1987.0</td>\n",
       "      <td>NaN</td>\n",
       "      <td>NaN</td>\n",
       "      <td>left_only</td>\n",
       "    </tr>\n",
       "    <tr>\n",
       "      <th>311966</th>\n",
       "      <td>0_2245</td>\n",
       "      <td>2022-04-22 08:51:27.564509</td>\n",
       "      <td>s_197669</td>\n",
       "      <td>c_6752</td>\n",
       "      <td>m</td>\n",
       "      <td>1987.0</td>\n",
       "      <td>NaN</td>\n",
       "      <td>NaN</td>\n",
       "      <td>left_only</td>\n",
       "    </tr>\n",
       "    <tr>\n",
       "      <th>311967</th>\n",
       "      <td>0_2245</td>\n",
       "      <td>2021-05-20 07:44:21.415061</td>\n",
       "      <td>s_36985</td>\n",
       "      <td>c_1450</td>\n",
       "      <td>f</td>\n",
       "      <td>1959.0</td>\n",
       "      <td>NaN</td>\n",
       "      <td>NaN</td>\n",
       "      <td>left_only</td>\n",
       "    </tr>\n",
       "  </tbody>\n",
       "</table>\n",
       "<p>221 rows × 9 columns</p>\n",
       "</div>"
      ],
      "text/plain": [
       "       id_prod                        date session_id client_id sex   birth  \\\n",
       "311747  0_2245  2021-04-22 04:57:20.090378    s_23987    c_6714   f  1968.0   \n",
       "311748  0_2245  2021-06-05 17:04:43.982913    s_44481    c_6714   f  1968.0   \n",
       "311749  0_2245  2022-04-05 17:04:43.982913   s_189669    c_6714   f  1968.0   \n",
       "311750  0_2245  2022-05-05 17:04:43.982913   s_204093    c_6714   f  1968.0   \n",
       "311751  0_2245  2022-12-05 17:04:43.982913   s_307520    c_6714   f  1968.0   \n",
       "...        ...                         ...        ...       ...  ..     ...   \n",
       "311963  0_2245  2021-10-19 09:32:03.667461   s_107022    c_6128   m  1986.0   \n",
       "311964  0_2245  2021-11-12 09:25:22.905886   s_118458    c_7416   m  1933.0   \n",
       "311965  0_2245  2021-08-22 08:51:27.564509    s_79102    c_6752   m  1987.0   \n",
       "311966  0_2245  2022-04-22 08:51:27.564509   s_197669    c_6752   m  1987.0   \n",
       "311967  0_2245  2021-05-20 07:44:21.415061    s_36985    c_1450   f  1959.0   \n",
       "\n",
       "        price  categ     _merge  \n",
       "311747    NaN    NaN  left_only  \n",
       "311748    NaN    NaN  left_only  \n",
       "311749    NaN    NaN  left_only  \n",
       "311750    NaN    NaN  left_only  \n",
       "311751    NaN    NaN  left_only  \n",
       "...       ...    ...        ...  \n",
       "311963    NaN    NaN  left_only  \n",
       "311964    NaN    NaN  left_only  \n",
       "311965    NaN    NaN  left_only  \n",
       "311966    NaN    NaN  left_only  \n",
       "311967    NaN    NaN  left_only  \n",
       "\n",
       "[221 rows x 9 columns]"
      ]
     },
     "execution_count": 39,
     "metadata": {},
     "output_type": "execute_result"
    }
   ],
   "source": [
    "Complet_df_left = complet_df[complet_df['_merge'] == 'left_only']\n",
    "Complet_df_left"
   ]
  },
  {
   "cell_type": "markdown",
   "id": "e8dd60b3",
   "metadata": {},
   "source": [
    "il y a beaucoup de nan ce qui s'explique par la différence entre les dataframe id_client et id_prod\n",
    "\n",
    "\n",
    "On a également 22 produits qui ne se sont jamais vendus mais qui sont présents dans notre référencement.\n",
    "\n",
    "Par contre nous avons 221 price et categ manquant ce qui peut poser problème dans l'analyse"
   ]
  },
  {
   "cell_type": "code",
   "execution_count": 40,
   "id": "a02e44e8",
   "metadata": {},
   "outputs": [
    {
     "name": "stdout",
     "output_type": "stream",
     "text": [
      "<class 'pandas.core.frame.DataFrame'>\n",
      "Int64Index: 679111 entries, 0 to 679331\n",
      "Data columns (total 9 columns):\n",
      " #   Column      Non-Null Count   Dtype   \n",
      "---  ------      --------------   -----   \n",
      " 0   id_prod     679111 non-null  object  \n",
      " 1   date        679111 non-null  object  \n",
      " 2   session_id  679111 non-null  object  \n",
      " 3   client_id   679111 non-null  object  \n",
      " 4   sex         679111 non-null  object  \n",
      " 5   birth       679111 non-null  float64 \n",
      " 6   price       679111 non-null  float64 \n",
      " 7   categ       679111 non-null  float64 \n",
      " 8   _merge      679111 non-null  category\n",
      "dtypes: category(1), float64(3), object(5)\n",
      "memory usage: 47.3+ MB\n"
     ]
    },
    {
     "data": {
      "text/plain": [
       "id_prod       0\n",
       "date          0\n",
       "session_id    0\n",
       "client_id     0\n",
       "sex           0\n",
       "birth         0\n",
       "price         0\n",
       "categ         0\n",
       "_merge        0\n",
       "dtype: int64"
      ]
     },
     "execution_count": 40,
     "metadata": {},
     "output_type": "execute_result"
    }
   ],
   "source": [
    "# Creation d'une dataframe que sur les ventes effectués que nous appelerons Ventes_df:\n",
    "ventes_df = complet_df.dropna()\n",
    "ventes_df.info()\n",
    "ventes_df.isna().sum()"
   ]
  },
  {
   "cell_type": "code",
   "execution_count": 41,
   "id": "cf778b2c",
   "metadata": {
    "scrolled": true
   },
   "outputs": [
    {
     "data": {
      "text/html": [
       "<div>\n",
       "<style scoped>\n",
       "    .dataframe tbody tr th:only-of-type {\n",
       "        vertical-align: middle;\n",
       "    }\n",
       "\n",
       "    .dataframe tbody tr th {\n",
       "        vertical-align: top;\n",
       "    }\n",
       "\n",
       "    .dataframe thead th {\n",
       "        text-align: right;\n",
       "    }\n",
       "</style>\n",
       "<table border=\"1\" class=\"dataframe\">\n",
       "  <thead>\n",
       "    <tr style=\"text-align: right;\">\n",
       "      <th></th>\n",
       "      <th>id_prod</th>\n",
       "      <th>date</th>\n",
       "      <th>session_id</th>\n",
       "      <th>client_id</th>\n",
       "      <th>sex</th>\n",
       "      <th>birth</th>\n",
       "      <th>price</th>\n",
       "      <th>categ</th>\n",
       "      <th>_merge</th>\n",
       "    </tr>\n",
       "  </thead>\n",
       "  <tbody>\n",
       "    <tr>\n",
       "      <th>0</th>\n",
       "      <td>0_1518</td>\n",
       "      <td>2022-05-20 13:21:29.043970</td>\n",
       "      <td>s_211425</td>\n",
       "      <td>c_103</td>\n",
       "      <td>f</td>\n",
       "      <td>1986.0</td>\n",
       "      <td>4.18</td>\n",
       "      <td>0.0</td>\n",
       "      <td>both</td>\n",
       "    </tr>\n",
       "    <tr>\n",
       "      <th>1</th>\n",
       "      <td>0_1518</td>\n",
       "      <td>2021-07-20 13:21:29.043970</td>\n",
       "      <td>s_64849</td>\n",
       "      <td>c_103</td>\n",
       "      <td>f</td>\n",
       "      <td>1986.0</td>\n",
       "      <td>4.18</td>\n",
       "      <td>0.0</td>\n",
       "      <td>both</td>\n",
       "    </tr>\n",
       "    <tr>\n",
       "      <th>2</th>\n",
       "      <td>0_1518</td>\n",
       "      <td>2022-08-20 13:21:29.043970</td>\n",
       "      <td>s_255965</td>\n",
       "      <td>c_103</td>\n",
       "      <td>f</td>\n",
       "      <td>1986.0</td>\n",
       "      <td>4.18</td>\n",
       "      <td>0.0</td>\n",
       "      <td>both</td>\n",
       "    </tr>\n",
       "    <tr>\n",
       "      <th>3</th>\n",
       "      <td>0_1518</td>\n",
       "      <td>2021-05-09 11:52:55.100386</td>\n",
       "      <td>s_32104</td>\n",
       "      <td>c_6714</td>\n",
       "      <td>f</td>\n",
       "      <td>1968.0</td>\n",
       "      <td>4.18</td>\n",
       "      <td>0.0</td>\n",
       "      <td>both</td>\n",
       "    </tr>\n",
       "    <tr>\n",
       "      <th>4</th>\n",
       "      <td>0_1518</td>\n",
       "      <td>2022-05-30 01:17:07.487046</td>\n",
       "      <td>s_216118</td>\n",
       "      <td>c_6714</td>\n",
       "      <td>f</td>\n",
       "      <td>1968.0</td>\n",
       "      <td>4.18</td>\n",
       "      <td>0.0</td>\n",
       "      <td>both</td>\n",
       "    </tr>\n",
       "    <tr>\n",
       "      <th>...</th>\n",
       "      <td>...</td>\n",
       "      <td>...</td>\n",
       "      <td>...</td>\n",
       "      <td>...</td>\n",
       "      <td>...</td>\n",
       "      <td>...</td>\n",
       "      <td>...</td>\n",
       "      <td>...</td>\n",
       "      <td>...</td>\n",
       "    </tr>\n",
       "    <tr>\n",
       "      <th>679327</th>\n",
       "      <td>1_408</td>\n",
       "      <td>2023-01-26 06:52:02.225335</td>\n",
       "      <td>s_332548</td>\n",
       "      <td>c_7402</td>\n",
       "      <td>m</td>\n",
       "      <td>1945.0</td>\n",
       "      <td>35.24</td>\n",
       "      <td>1.0</td>\n",
       "      <td>both</td>\n",
       "    </tr>\n",
       "    <tr>\n",
       "      <th>679328</th>\n",
       "      <td>1_408</td>\n",
       "      <td>2022-11-26 06:52:02.225335</td>\n",
       "      <td>s_302962</td>\n",
       "      <td>c_7402</td>\n",
       "      <td>m</td>\n",
       "      <td>1945.0</td>\n",
       "      <td>35.24</td>\n",
       "      <td>1.0</td>\n",
       "      <td>both</td>\n",
       "    </tr>\n",
       "    <tr>\n",
       "      <th>679329</th>\n",
       "      <td>1_408</td>\n",
       "      <td>2021-09-26 06:52:02.225335</td>\n",
       "      <td>s_95708</td>\n",
       "      <td>c_7402</td>\n",
       "      <td>m</td>\n",
       "      <td>1945.0</td>\n",
       "      <td>35.24</td>\n",
       "      <td>1.0</td>\n",
       "      <td>both</td>\n",
       "    </tr>\n",
       "    <tr>\n",
       "      <th>679330</th>\n",
       "      <td>2_81</td>\n",
       "      <td>2022-02-19 14:51:58.078656</td>\n",
       "      <td>s_167662</td>\n",
       "      <td>c_7616</td>\n",
       "      <td>m</td>\n",
       "      <td>1993.0</td>\n",
       "      <td>86.99</td>\n",
       "      <td>2.0</td>\n",
       "      <td>both</td>\n",
       "    </tr>\n",
       "    <tr>\n",
       "      <th>679331</th>\n",
       "      <td>2_98</td>\n",
       "      <td>2021-03-08 21:10:32.250919</td>\n",
       "      <td>s_3637</td>\n",
       "      <td>c_5967</td>\n",
       "      <td>f</td>\n",
       "      <td>2003.0</td>\n",
       "      <td>149.74</td>\n",
       "      <td>2.0</td>\n",
       "      <td>both</td>\n",
       "    </tr>\n",
       "  </tbody>\n",
       "</table>\n",
       "<p>679111 rows × 9 columns</p>\n",
       "</div>"
      ],
      "text/plain": [
       "       id_prod                        date session_id client_id sex   birth  \\\n",
       "0       0_1518  2022-05-20 13:21:29.043970   s_211425     c_103   f  1986.0   \n",
       "1       0_1518  2021-07-20 13:21:29.043970    s_64849     c_103   f  1986.0   \n",
       "2       0_1518  2022-08-20 13:21:29.043970   s_255965     c_103   f  1986.0   \n",
       "3       0_1518  2021-05-09 11:52:55.100386    s_32104    c_6714   f  1968.0   \n",
       "4       0_1518  2022-05-30 01:17:07.487046   s_216118    c_6714   f  1968.0   \n",
       "...        ...                         ...        ...       ...  ..     ...   \n",
       "679327   1_408  2023-01-26 06:52:02.225335   s_332548    c_7402   m  1945.0   \n",
       "679328   1_408  2022-11-26 06:52:02.225335   s_302962    c_7402   m  1945.0   \n",
       "679329   1_408  2021-09-26 06:52:02.225335    s_95708    c_7402   m  1945.0   \n",
       "679330    2_81  2022-02-19 14:51:58.078656   s_167662    c_7616   m  1993.0   \n",
       "679331    2_98  2021-03-08 21:10:32.250919     s_3637    c_5967   f  2003.0   \n",
       "\n",
       "         price  categ _merge  \n",
       "0         4.18    0.0   both  \n",
       "1         4.18    0.0   both  \n",
       "2         4.18    0.0   both  \n",
       "3         4.18    0.0   both  \n",
       "4         4.18    0.0   both  \n",
       "...        ...    ...    ...  \n",
       "679327   35.24    1.0   both  \n",
       "679328   35.24    1.0   both  \n",
       "679329   35.24    1.0   both  \n",
       "679330   86.99    2.0   both  \n",
       "679331  149.74    2.0   both  \n",
       "\n",
       "[679111 rows x 9 columns]"
      ]
     },
     "execution_count": 41,
     "metadata": {},
     "output_type": "execute_result"
    }
   ],
   "source": [
    "ventes_df"
   ]
  },
  {
   "cell_type": "code",
   "execution_count": null,
   "id": "b851e3e3",
   "metadata": {},
   "outputs": [],
   "source": []
  },
  {
   "cell_type": "code",
   "execution_count": null,
   "id": "494e757a",
   "metadata": {},
   "outputs": [],
   "source": []
  },
  {
   "cell_type": "code",
   "execution_count": 42,
   "id": "c339b055",
   "metadata": {},
   "outputs": [
    {
     "name": "stderr",
     "output_type": "stream",
     "text": [
      "C:\\Users\\x muscador x\\AppData\\Local\\Temp\\ipykernel_2780\\609781186.py:1: SettingWithCopyWarning: \n",
      "A value is trying to be set on a copy of a slice from a DataFrame.\n",
      "Try using .loc[row_indexer,col_indexer] = value instead\n",
      "\n",
      "See the caveats in the documentation: https://pandas.pydata.org/pandas-docs/stable/user_guide/indexing.html#returning-a-view-versus-a-copy\n",
      "  ventes_df['date'] = pd.to_datetime(ventes_df['date'])\n"
     ]
    }
   ],
   "source": [
    "ventes_df['date'] = pd.to_datetime(ventes_df['date'])"
   ]
  },
  {
   "cell_type": "code",
   "execution_count": 43,
   "id": "6f593e5c",
   "metadata": {},
   "outputs": [
    {
     "name": "stderr",
     "output_type": "stream",
     "text": [
      "C:\\Users\\x muscador x\\AppData\\Local\\Temp\\ipykernel_2780\\2898332475.py:2: SettingWithCopyWarning: \n",
      "A value is trying to be set on a copy of a slice from a DataFrame.\n",
      "Try using .loc[row_indexer,col_indexer] = value instead\n",
      "\n",
      "See the caveats in the documentation: https://pandas.pydata.org/pandas-docs/stable/user_guide/indexing.html#returning-a-view-versus-a-copy\n",
      "  ventes_df[\"year\"] = ventes_df[\"date\"].dt.year\n",
      "C:\\Users\\x muscador x\\AppData\\Local\\Temp\\ipykernel_2780\\2898332475.py:3: SettingWithCopyWarning: \n",
      "A value is trying to be set on a copy of a slice from a DataFrame.\n",
      "Try using .loc[row_indexer,col_indexer] = value instead\n",
      "\n",
      "See the caveats in the documentation: https://pandas.pydata.org/pandas-docs/stable/user_guide/indexing.html#returning-a-view-versus-a-copy\n",
      "  ventes_df[\"month\"] = ventes_df[\"date\"].dt.month\n",
      "C:\\Users\\x muscador x\\AppData\\Local\\Temp\\ipykernel_2780\\2898332475.py:4: SettingWithCopyWarning: \n",
      "A value is trying to be set on a copy of a slice from a DataFrame.\n",
      "Try using .loc[row_indexer,col_indexer] = value instead\n",
      "\n",
      "See the caveats in the documentation: https://pandas.pydata.org/pandas-docs/stable/user_guide/indexing.html#returning-a-view-versus-a-copy\n",
      "  ventes_df[\"day\"] = ventes_df[\"date\"].dt.day\n"
     ]
    }
   ],
   "source": [
    "# Facilite la manipulation des dates:\n",
    "ventes_df[\"year\"] = ventes_df[\"date\"].dt.year\n",
    "ventes_df[\"month\"] = ventes_df[\"date\"].dt.month\n",
    "ventes_df[\"day\"] = ventes_df[\"date\"].dt.day"
   ]
  },
  {
   "cell_type": "code",
   "execution_count": 44,
   "id": "351eaf11",
   "metadata": {},
   "outputs": [
    {
     "data": {
      "text/html": [
       "<div>\n",
       "<style scoped>\n",
       "    .dataframe tbody tr th:only-of-type {\n",
       "        vertical-align: middle;\n",
       "    }\n",
       "\n",
       "    .dataframe tbody tr th {\n",
       "        vertical-align: top;\n",
       "    }\n",
       "\n",
       "    .dataframe thead th {\n",
       "        text-align: right;\n",
       "    }\n",
       "</style>\n",
       "<table border=\"1\" class=\"dataframe\">\n",
       "  <thead>\n",
       "    <tr style=\"text-align: right;\">\n",
       "      <th></th>\n",
       "      <th>id_prod</th>\n",
       "      <th>date</th>\n",
       "      <th>session_id</th>\n",
       "      <th>client_id</th>\n",
       "      <th>sex</th>\n",
       "      <th>birth</th>\n",
       "      <th>price</th>\n",
       "      <th>categ</th>\n",
       "      <th>_merge</th>\n",
       "      <th>year</th>\n",
       "      <th>month</th>\n",
       "      <th>day</th>\n",
       "    </tr>\n",
       "  </thead>\n",
       "  <tbody>\n",
       "    <tr>\n",
       "      <th>0</th>\n",
       "      <td>0_1518</td>\n",
       "      <td>2022-05-20 13:21:29.043970</td>\n",
       "      <td>s_211425</td>\n",
       "      <td>c_103</td>\n",
       "      <td>f</td>\n",
       "      <td>1986.0</td>\n",
       "      <td>4.18</td>\n",
       "      <td>0.0</td>\n",
       "      <td>both</td>\n",
       "      <td>2022</td>\n",
       "      <td>5</td>\n",
       "      <td>20</td>\n",
       "    </tr>\n",
       "    <tr>\n",
       "      <th>1</th>\n",
       "      <td>0_1518</td>\n",
       "      <td>2021-07-20 13:21:29.043970</td>\n",
       "      <td>s_64849</td>\n",
       "      <td>c_103</td>\n",
       "      <td>f</td>\n",
       "      <td>1986.0</td>\n",
       "      <td>4.18</td>\n",
       "      <td>0.0</td>\n",
       "      <td>both</td>\n",
       "      <td>2021</td>\n",
       "      <td>7</td>\n",
       "      <td>20</td>\n",
       "    </tr>\n",
       "    <tr>\n",
       "      <th>2</th>\n",
       "      <td>0_1518</td>\n",
       "      <td>2022-08-20 13:21:29.043970</td>\n",
       "      <td>s_255965</td>\n",
       "      <td>c_103</td>\n",
       "      <td>f</td>\n",
       "      <td>1986.0</td>\n",
       "      <td>4.18</td>\n",
       "      <td>0.0</td>\n",
       "      <td>both</td>\n",
       "      <td>2022</td>\n",
       "      <td>8</td>\n",
       "      <td>20</td>\n",
       "    </tr>\n",
       "    <tr>\n",
       "      <th>3</th>\n",
       "      <td>0_1518</td>\n",
       "      <td>2021-05-09 11:52:55.100386</td>\n",
       "      <td>s_32104</td>\n",
       "      <td>c_6714</td>\n",
       "      <td>f</td>\n",
       "      <td>1968.0</td>\n",
       "      <td>4.18</td>\n",
       "      <td>0.0</td>\n",
       "      <td>both</td>\n",
       "      <td>2021</td>\n",
       "      <td>5</td>\n",
       "      <td>9</td>\n",
       "    </tr>\n",
       "    <tr>\n",
       "      <th>4</th>\n",
       "      <td>0_1518</td>\n",
       "      <td>2022-05-30 01:17:07.487046</td>\n",
       "      <td>s_216118</td>\n",
       "      <td>c_6714</td>\n",
       "      <td>f</td>\n",
       "      <td>1968.0</td>\n",
       "      <td>4.18</td>\n",
       "      <td>0.0</td>\n",
       "      <td>both</td>\n",
       "      <td>2022</td>\n",
       "      <td>5</td>\n",
       "      <td>30</td>\n",
       "    </tr>\n",
       "    <tr>\n",
       "      <th>...</th>\n",
       "      <td>...</td>\n",
       "      <td>...</td>\n",
       "      <td>...</td>\n",
       "      <td>...</td>\n",
       "      <td>...</td>\n",
       "      <td>...</td>\n",
       "      <td>...</td>\n",
       "      <td>...</td>\n",
       "      <td>...</td>\n",
       "      <td>...</td>\n",
       "      <td>...</td>\n",
       "      <td>...</td>\n",
       "    </tr>\n",
       "    <tr>\n",
       "      <th>679327</th>\n",
       "      <td>1_408</td>\n",
       "      <td>2023-01-26 06:52:02.225335</td>\n",
       "      <td>s_332548</td>\n",
       "      <td>c_7402</td>\n",
       "      <td>m</td>\n",
       "      <td>1945.0</td>\n",
       "      <td>35.24</td>\n",
       "      <td>1.0</td>\n",
       "      <td>both</td>\n",
       "      <td>2023</td>\n",
       "      <td>1</td>\n",
       "      <td>26</td>\n",
       "    </tr>\n",
       "    <tr>\n",
       "      <th>679328</th>\n",
       "      <td>1_408</td>\n",
       "      <td>2022-11-26 06:52:02.225335</td>\n",
       "      <td>s_302962</td>\n",
       "      <td>c_7402</td>\n",
       "      <td>m</td>\n",
       "      <td>1945.0</td>\n",
       "      <td>35.24</td>\n",
       "      <td>1.0</td>\n",
       "      <td>both</td>\n",
       "      <td>2022</td>\n",
       "      <td>11</td>\n",
       "      <td>26</td>\n",
       "    </tr>\n",
       "    <tr>\n",
       "      <th>679329</th>\n",
       "      <td>1_408</td>\n",
       "      <td>2021-09-26 06:52:02.225335</td>\n",
       "      <td>s_95708</td>\n",
       "      <td>c_7402</td>\n",
       "      <td>m</td>\n",
       "      <td>1945.0</td>\n",
       "      <td>35.24</td>\n",
       "      <td>1.0</td>\n",
       "      <td>both</td>\n",
       "      <td>2021</td>\n",
       "      <td>9</td>\n",
       "      <td>26</td>\n",
       "    </tr>\n",
       "    <tr>\n",
       "      <th>679330</th>\n",
       "      <td>2_81</td>\n",
       "      <td>2022-02-19 14:51:58.078656</td>\n",
       "      <td>s_167662</td>\n",
       "      <td>c_7616</td>\n",
       "      <td>m</td>\n",
       "      <td>1993.0</td>\n",
       "      <td>86.99</td>\n",
       "      <td>2.0</td>\n",
       "      <td>both</td>\n",
       "      <td>2022</td>\n",
       "      <td>2</td>\n",
       "      <td>19</td>\n",
       "    </tr>\n",
       "    <tr>\n",
       "      <th>679331</th>\n",
       "      <td>2_98</td>\n",
       "      <td>2021-03-08 21:10:32.250919</td>\n",
       "      <td>s_3637</td>\n",
       "      <td>c_5967</td>\n",
       "      <td>f</td>\n",
       "      <td>2003.0</td>\n",
       "      <td>149.74</td>\n",
       "      <td>2.0</td>\n",
       "      <td>both</td>\n",
       "      <td>2021</td>\n",
       "      <td>3</td>\n",
       "      <td>8</td>\n",
       "    </tr>\n",
       "  </tbody>\n",
       "</table>\n",
       "<p>679111 rows × 12 columns</p>\n",
       "</div>"
      ],
      "text/plain": [
       "       id_prod                       date session_id client_id sex   birth  \\\n",
       "0       0_1518 2022-05-20 13:21:29.043970   s_211425     c_103   f  1986.0   \n",
       "1       0_1518 2021-07-20 13:21:29.043970    s_64849     c_103   f  1986.0   \n",
       "2       0_1518 2022-08-20 13:21:29.043970   s_255965     c_103   f  1986.0   \n",
       "3       0_1518 2021-05-09 11:52:55.100386    s_32104    c_6714   f  1968.0   \n",
       "4       0_1518 2022-05-30 01:17:07.487046   s_216118    c_6714   f  1968.0   \n",
       "...        ...                        ...        ...       ...  ..     ...   \n",
       "679327   1_408 2023-01-26 06:52:02.225335   s_332548    c_7402   m  1945.0   \n",
       "679328   1_408 2022-11-26 06:52:02.225335   s_302962    c_7402   m  1945.0   \n",
       "679329   1_408 2021-09-26 06:52:02.225335    s_95708    c_7402   m  1945.0   \n",
       "679330    2_81 2022-02-19 14:51:58.078656   s_167662    c_7616   m  1993.0   \n",
       "679331    2_98 2021-03-08 21:10:32.250919     s_3637    c_5967   f  2003.0   \n",
       "\n",
       "         price  categ _merge  year  month  day  \n",
       "0         4.18    0.0   both  2022      5   20  \n",
       "1         4.18    0.0   both  2021      7   20  \n",
       "2         4.18    0.0   both  2022      8   20  \n",
       "3         4.18    0.0   both  2021      5    9  \n",
       "4         4.18    0.0   both  2022      5   30  \n",
       "...        ...    ...    ...   ...    ...  ...  \n",
       "679327   35.24    1.0   both  2023      1   26  \n",
       "679328   35.24    1.0   both  2022     11   26  \n",
       "679329   35.24    1.0   both  2021      9   26  \n",
       "679330   86.99    2.0   both  2022      2   19  \n",
       "679331  149.74    2.0   both  2021      3    8  \n",
       "\n",
       "[679111 rows x 12 columns]"
      ]
     },
     "execution_count": 44,
     "metadata": {},
     "output_type": "execute_result"
    }
   ],
   "source": [
    "ventes_df"
   ]
  },
  {
   "cell_type": "code",
   "execution_count": 45,
   "id": "1a60ab99",
   "metadata": {},
   "outputs": [
    {
     "name": "stderr",
     "output_type": "stream",
     "text": [
      "C:\\Users\\x muscador x\\AppData\\Local\\Temp\\ipykernel_2780\\1878658264.py:5: SettingWithCopyWarning: \n",
      "A value is trying to be set on a copy of a slice from a DataFrame.\n",
      "Try using .loc[row_indexer,col_indexer] = value instead\n",
      "\n",
      "See the caveats in the documentation: https://pandas.pydata.org/pandas-docs/stable/user_guide/indexing.html#returning-a-view-versus-a-copy\n",
      "  ventes_df[\"age\"] = ventes_df[\"year\"] - ventes_df[\"birth\"]\n"
     ]
    }
   ],
   "source": [
    "# Ajout d'une colonne \"age\" aux clients\n",
    "from datetime import datetime\n",
    "\n",
    "\n",
    "ventes_df[\"age\"] = ventes_df[\"year\"] - ventes_df[\"birth\"]"
   ]
  },
  {
   "cell_type": "code",
   "execution_count": 46,
   "id": "bb1bdde1",
   "metadata": {},
   "outputs": [
    {
     "data": {
      "text/html": [
       "<div>\n",
       "<style scoped>\n",
       "    .dataframe tbody tr th:only-of-type {\n",
       "        vertical-align: middle;\n",
       "    }\n",
       "\n",
       "    .dataframe tbody tr th {\n",
       "        vertical-align: top;\n",
       "    }\n",
       "\n",
       "    .dataframe thead th {\n",
       "        text-align: right;\n",
       "    }\n",
       "</style>\n",
       "<table border=\"1\" class=\"dataframe\">\n",
       "  <thead>\n",
       "    <tr style=\"text-align: right;\">\n",
       "      <th></th>\n",
       "      <th>id_prod</th>\n",
       "      <th>date</th>\n",
       "      <th>session_id</th>\n",
       "      <th>client_id</th>\n",
       "      <th>sex</th>\n",
       "      <th>birth</th>\n",
       "      <th>price</th>\n",
       "      <th>categ</th>\n",
       "      <th>_merge</th>\n",
       "      <th>year</th>\n",
       "      <th>month</th>\n",
       "      <th>day</th>\n",
       "      <th>age</th>\n",
       "    </tr>\n",
       "  </thead>\n",
       "  <tbody>\n",
       "    <tr>\n",
       "      <th>0</th>\n",
       "      <td>0_1518</td>\n",
       "      <td>2022-05-20 13:21:29.043970</td>\n",
       "      <td>s_211425</td>\n",
       "      <td>c_103</td>\n",
       "      <td>f</td>\n",
       "      <td>1986.0</td>\n",
       "      <td>4.18</td>\n",
       "      <td>0.0</td>\n",
       "      <td>both</td>\n",
       "      <td>2022</td>\n",
       "      <td>5</td>\n",
       "      <td>20</td>\n",
       "      <td>36.0</td>\n",
       "    </tr>\n",
       "    <tr>\n",
       "      <th>1</th>\n",
       "      <td>0_1518</td>\n",
       "      <td>2021-07-20 13:21:29.043970</td>\n",
       "      <td>s_64849</td>\n",
       "      <td>c_103</td>\n",
       "      <td>f</td>\n",
       "      <td>1986.0</td>\n",
       "      <td>4.18</td>\n",
       "      <td>0.0</td>\n",
       "      <td>both</td>\n",
       "      <td>2021</td>\n",
       "      <td>7</td>\n",
       "      <td>20</td>\n",
       "      <td>35.0</td>\n",
       "    </tr>\n",
       "    <tr>\n",
       "      <th>2</th>\n",
       "      <td>0_1518</td>\n",
       "      <td>2022-08-20 13:21:29.043970</td>\n",
       "      <td>s_255965</td>\n",
       "      <td>c_103</td>\n",
       "      <td>f</td>\n",
       "      <td>1986.0</td>\n",
       "      <td>4.18</td>\n",
       "      <td>0.0</td>\n",
       "      <td>both</td>\n",
       "      <td>2022</td>\n",
       "      <td>8</td>\n",
       "      <td>20</td>\n",
       "      <td>36.0</td>\n",
       "    </tr>\n",
       "    <tr>\n",
       "      <th>3</th>\n",
       "      <td>0_1518</td>\n",
       "      <td>2021-05-09 11:52:55.100386</td>\n",
       "      <td>s_32104</td>\n",
       "      <td>c_6714</td>\n",
       "      <td>f</td>\n",
       "      <td>1968.0</td>\n",
       "      <td>4.18</td>\n",
       "      <td>0.0</td>\n",
       "      <td>both</td>\n",
       "      <td>2021</td>\n",
       "      <td>5</td>\n",
       "      <td>9</td>\n",
       "      <td>53.0</td>\n",
       "    </tr>\n",
       "    <tr>\n",
       "      <th>4</th>\n",
       "      <td>0_1518</td>\n",
       "      <td>2022-05-30 01:17:07.487046</td>\n",
       "      <td>s_216118</td>\n",
       "      <td>c_6714</td>\n",
       "      <td>f</td>\n",
       "      <td>1968.0</td>\n",
       "      <td>4.18</td>\n",
       "      <td>0.0</td>\n",
       "      <td>both</td>\n",
       "      <td>2022</td>\n",
       "      <td>5</td>\n",
       "      <td>30</td>\n",
       "      <td>54.0</td>\n",
       "    </tr>\n",
       "    <tr>\n",
       "      <th>...</th>\n",
       "      <td>...</td>\n",
       "      <td>...</td>\n",
       "      <td>...</td>\n",
       "      <td>...</td>\n",
       "      <td>...</td>\n",
       "      <td>...</td>\n",
       "      <td>...</td>\n",
       "      <td>...</td>\n",
       "      <td>...</td>\n",
       "      <td>...</td>\n",
       "      <td>...</td>\n",
       "      <td>...</td>\n",
       "      <td>...</td>\n",
       "    </tr>\n",
       "    <tr>\n",
       "      <th>679327</th>\n",
       "      <td>1_408</td>\n",
       "      <td>2023-01-26 06:52:02.225335</td>\n",
       "      <td>s_332548</td>\n",
       "      <td>c_7402</td>\n",
       "      <td>m</td>\n",
       "      <td>1945.0</td>\n",
       "      <td>35.24</td>\n",
       "      <td>1.0</td>\n",
       "      <td>both</td>\n",
       "      <td>2023</td>\n",
       "      <td>1</td>\n",
       "      <td>26</td>\n",
       "      <td>78.0</td>\n",
       "    </tr>\n",
       "    <tr>\n",
       "      <th>679328</th>\n",
       "      <td>1_408</td>\n",
       "      <td>2022-11-26 06:52:02.225335</td>\n",
       "      <td>s_302962</td>\n",
       "      <td>c_7402</td>\n",
       "      <td>m</td>\n",
       "      <td>1945.0</td>\n",
       "      <td>35.24</td>\n",
       "      <td>1.0</td>\n",
       "      <td>both</td>\n",
       "      <td>2022</td>\n",
       "      <td>11</td>\n",
       "      <td>26</td>\n",
       "      <td>77.0</td>\n",
       "    </tr>\n",
       "    <tr>\n",
       "      <th>679329</th>\n",
       "      <td>1_408</td>\n",
       "      <td>2021-09-26 06:52:02.225335</td>\n",
       "      <td>s_95708</td>\n",
       "      <td>c_7402</td>\n",
       "      <td>m</td>\n",
       "      <td>1945.0</td>\n",
       "      <td>35.24</td>\n",
       "      <td>1.0</td>\n",
       "      <td>both</td>\n",
       "      <td>2021</td>\n",
       "      <td>9</td>\n",
       "      <td>26</td>\n",
       "      <td>76.0</td>\n",
       "    </tr>\n",
       "    <tr>\n",
       "      <th>679330</th>\n",
       "      <td>2_81</td>\n",
       "      <td>2022-02-19 14:51:58.078656</td>\n",
       "      <td>s_167662</td>\n",
       "      <td>c_7616</td>\n",
       "      <td>m</td>\n",
       "      <td>1993.0</td>\n",
       "      <td>86.99</td>\n",
       "      <td>2.0</td>\n",
       "      <td>both</td>\n",
       "      <td>2022</td>\n",
       "      <td>2</td>\n",
       "      <td>19</td>\n",
       "      <td>29.0</td>\n",
       "    </tr>\n",
       "    <tr>\n",
       "      <th>679331</th>\n",
       "      <td>2_98</td>\n",
       "      <td>2021-03-08 21:10:32.250919</td>\n",
       "      <td>s_3637</td>\n",
       "      <td>c_5967</td>\n",
       "      <td>f</td>\n",
       "      <td>2003.0</td>\n",
       "      <td>149.74</td>\n",
       "      <td>2.0</td>\n",
       "      <td>both</td>\n",
       "      <td>2021</td>\n",
       "      <td>3</td>\n",
       "      <td>8</td>\n",
       "      <td>18.0</td>\n",
       "    </tr>\n",
       "  </tbody>\n",
       "</table>\n",
       "<p>679111 rows × 13 columns</p>\n",
       "</div>"
      ],
      "text/plain": [
       "       id_prod                       date session_id client_id sex   birth  \\\n",
       "0       0_1518 2022-05-20 13:21:29.043970   s_211425     c_103   f  1986.0   \n",
       "1       0_1518 2021-07-20 13:21:29.043970    s_64849     c_103   f  1986.0   \n",
       "2       0_1518 2022-08-20 13:21:29.043970   s_255965     c_103   f  1986.0   \n",
       "3       0_1518 2021-05-09 11:52:55.100386    s_32104    c_6714   f  1968.0   \n",
       "4       0_1518 2022-05-30 01:17:07.487046   s_216118    c_6714   f  1968.0   \n",
       "...        ...                        ...        ...       ...  ..     ...   \n",
       "679327   1_408 2023-01-26 06:52:02.225335   s_332548    c_7402   m  1945.0   \n",
       "679328   1_408 2022-11-26 06:52:02.225335   s_302962    c_7402   m  1945.0   \n",
       "679329   1_408 2021-09-26 06:52:02.225335    s_95708    c_7402   m  1945.0   \n",
       "679330    2_81 2022-02-19 14:51:58.078656   s_167662    c_7616   m  1993.0   \n",
       "679331    2_98 2021-03-08 21:10:32.250919     s_3637    c_5967   f  2003.0   \n",
       "\n",
       "         price  categ _merge  year  month  day   age  \n",
       "0         4.18    0.0   both  2022      5   20  36.0  \n",
       "1         4.18    0.0   both  2021      7   20  35.0  \n",
       "2         4.18    0.0   both  2022      8   20  36.0  \n",
       "3         4.18    0.0   both  2021      5    9  53.0  \n",
       "4         4.18    0.0   both  2022      5   30  54.0  \n",
       "...        ...    ...    ...   ...    ...  ...   ...  \n",
       "679327   35.24    1.0   both  2023      1   26  78.0  \n",
       "679328   35.24    1.0   both  2022     11   26  77.0  \n",
       "679329   35.24    1.0   both  2021      9   26  76.0  \n",
       "679330   86.99    2.0   both  2022      2   19  29.0  \n",
       "679331  149.74    2.0   both  2021      3    8  18.0  \n",
       "\n",
       "[679111 rows x 13 columns]"
      ]
     },
     "execution_count": 46,
     "metadata": {},
     "output_type": "execute_result"
    }
   ],
   "source": [
    "ventes_df"
   ]
  },
  {
   "cell_type": "markdown",
   "id": "c3180e1f",
   "metadata": {},
   "source": [
    "**Analyse des différents indicateurs de vente:\n",
    "Différents indicateurs et graphiques autour du CA dont évolution dans le temps:** <a class=\"anchor\" id=\"analyse\"></a>\n",
    "\n",
    "[Sommaire](#Sommaire)"
   ]
  },
  {
   "cell_type": "code",
   "execution_count": 47,
   "id": "e68aec78",
   "metadata": {},
   "outputs": [
    {
     "name": "stdout",
     "output_type": "stream",
     "text": [
      "Le chiffre d'affaires total est de 11854522.96 €\n",
      "pour un total de 679111 ventes.\n"
     ]
    }
   ],
   "source": [
    "# CA total:\n",
    "ca_tot = complet_df.loc[(complet_df[\"client_id\"] != \"NaN\"),\"price\"].sum()\n",
    "ventes_tot = ventes_df[\"session_id\"].count()\n",
    "\n",
    "print(\"Le chiffre d'affaires total est de\", ca_tot, \"€\")\n",
    "print(\"pour un total de\", ventes_tot, \"ventes.\")"
   ]
  },
  {
   "cell_type": "code",
   "execution_count": 48,
   "id": "9476594f",
   "metadata": {},
   "outputs": [
    {
     "name": "stdout",
     "output_type": "stream",
     "text": [
      "le panier moyen est de 17.45594307852472\n"
     ]
    }
   ],
   "source": [
    "#panier moyen = ca/nbre de commandes\n",
    "panier_moyen = ca_tot/ventes_tot\n",
    "\n",
    "print(\"le panier moyen est de\" , panier_moyen)"
   ]
  },
  {
   "cell_type": "code",
   "execution_count": 49,
   "id": "d723d1fe",
   "metadata": {},
   "outputs": [
    {
     "name": "stdout",
     "output_type": "stream",
     "text": [
      "Chiffres d'affaires annuels\n",
      ": year\n",
      "2021    4770826.56\n",
      "2022    6108681.81\n",
      "2023     974220.31\n",
      "Name: price, dtype: float64\n",
      "Nombre de ventes annuelles:\n",
      " year\n",
      "2021    278248\n",
      "2022    346380\n",
      "2023     54483\n",
      "Name: session_id, dtype: int64\n"
     ]
    }
   ],
   "source": [
    "# CA annuel:\n",
    "ca_annuel = ventes_df.groupby([\"year\"])[\"price\"].sum()\n",
    "print(\"Chiffres d'affaires annuels\\n:\", ca_annuel)\n",
    "\n",
    "# Nombre de ventes annuel:\n",
    "ventes_annuelles = ventes_df.groupby([\"year\"])[\"session_id\"].count()\n",
    "print(\"Nombre de ventes annuelles:\\n\", ventes_annuelles)"
   ]
  },
  {
   "cell_type": "code",
   "execution_count": 50,
   "id": "81f3a22c",
   "metadata": {},
   "outputs": [],
   "source": [
    "ventes_2023 = ventes_df[ventes_df['year'] == 2023] \n"
   ]
  },
  {
   "cell_type": "code",
   "execution_count": 51,
   "id": "6c3c6662",
   "metadata": {},
   "outputs": [
    {
     "data": {
      "text/html": [
       "<div>\n",
       "<style scoped>\n",
       "    .dataframe tbody tr th:only-of-type {\n",
       "        vertical-align: middle;\n",
       "    }\n",
       "\n",
       "    .dataframe tbody tr th {\n",
       "        vertical-align: top;\n",
       "    }\n",
       "\n",
       "    .dataframe thead th {\n",
       "        text-align: right;\n",
       "    }\n",
       "</style>\n",
       "<table border=\"1\" class=\"dataframe\">\n",
       "  <thead>\n",
       "    <tr style=\"text-align: right;\">\n",
       "      <th></th>\n",
       "      <th>birth</th>\n",
       "      <th>price</th>\n",
       "      <th>categ</th>\n",
       "      <th>year</th>\n",
       "      <th>month</th>\n",
       "      <th>day</th>\n",
       "      <th>age</th>\n",
       "    </tr>\n",
       "  </thead>\n",
       "  <tbody>\n",
       "    <tr>\n",
       "      <th>count</th>\n",
       "      <td>54483.000000</td>\n",
       "      <td>54483.000000</td>\n",
       "      <td>54483.000000</td>\n",
       "      <td>54483.0</td>\n",
       "      <td>54483.000000</td>\n",
       "      <td>54483.000000</td>\n",
       "      <td>54483.000000</td>\n",
       "    </tr>\n",
       "    <tr>\n",
       "      <th>mean</th>\n",
       "      <td>1977.839656</td>\n",
       "      <td>17.881180</td>\n",
       "      <td>0.463980</td>\n",
       "      <td>2023.0</td>\n",
       "      <td>1.468862</td>\n",
       "      <td>15.397739</td>\n",
       "      <td>45.160344</td>\n",
       "    </tr>\n",
       "    <tr>\n",
       "      <th>std</th>\n",
       "      <td>13.804974</td>\n",
       "      <td>19.059602</td>\n",
       "      <td>0.602664</td>\n",
       "      <td>0.0</td>\n",
       "      <td>0.499034</td>\n",
       "      <td>8.538321</td>\n",
       "      <td>13.804974</td>\n",
       "    </tr>\n",
       "    <tr>\n",
       "      <th>min</th>\n",
       "      <td>1929.000000</td>\n",
       "      <td>0.660000</td>\n",
       "      <td>0.000000</td>\n",
       "      <td>2023.0</td>\n",
       "      <td>1.000000</td>\n",
       "      <td>1.000000</td>\n",
       "      <td>19.000000</td>\n",
       "    </tr>\n",
       "    <tr>\n",
       "      <th>25%</th>\n",
       "      <td>1970.000000</td>\n",
       "      <td>8.990000</td>\n",
       "      <td>0.000000</td>\n",
       "      <td>2023.0</td>\n",
       "      <td>1.000000</td>\n",
       "      <td>8.000000</td>\n",
       "      <td>36.000000</td>\n",
       "    </tr>\n",
       "    <tr>\n",
       "      <th>50%</th>\n",
       "      <td>1980.000000</td>\n",
       "      <td>13.990000</td>\n",
       "      <td>0.000000</td>\n",
       "      <td>2023.0</td>\n",
       "      <td>1.000000</td>\n",
       "      <td>15.000000</td>\n",
       "      <td>43.000000</td>\n",
       "    </tr>\n",
       "    <tr>\n",
       "      <th>75%</th>\n",
       "      <td>1987.000000</td>\n",
       "      <td>19.440000</td>\n",
       "      <td>1.000000</td>\n",
       "      <td>2023.0</td>\n",
       "      <td>2.000000</td>\n",
       "      <td>23.000000</td>\n",
       "      <td>53.000000</td>\n",
       "    </tr>\n",
       "    <tr>\n",
       "      <th>max</th>\n",
       "      <td>2004.000000</td>\n",
       "      <td>247.220000</td>\n",
       "      <td>2.000000</td>\n",
       "      <td>2023.0</td>\n",
       "      <td>2.000000</td>\n",
       "      <td>31.000000</td>\n",
       "      <td>94.000000</td>\n",
       "    </tr>\n",
       "  </tbody>\n",
       "</table>\n",
       "</div>"
      ],
      "text/plain": [
       "              birth         price         categ     year         month  \\\n",
       "count  54483.000000  54483.000000  54483.000000  54483.0  54483.000000   \n",
       "mean    1977.839656     17.881180      0.463980   2023.0      1.468862   \n",
       "std       13.804974     19.059602      0.602664      0.0      0.499034   \n",
       "min     1929.000000      0.660000      0.000000   2023.0      1.000000   \n",
       "25%     1970.000000      8.990000      0.000000   2023.0      1.000000   \n",
       "50%     1980.000000     13.990000      0.000000   2023.0      1.000000   \n",
       "75%     1987.000000     19.440000      1.000000   2023.0      2.000000   \n",
       "max     2004.000000    247.220000      2.000000   2023.0      2.000000   \n",
       "\n",
       "                day           age  \n",
       "count  54483.000000  54483.000000  \n",
       "mean      15.397739     45.160344  \n",
       "std        8.538321     13.804974  \n",
       "min        1.000000     19.000000  \n",
       "25%        8.000000     36.000000  \n",
       "50%       15.000000     43.000000  \n",
       "75%       23.000000     53.000000  \n",
       "max       31.000000     94.000000  "
      ]
     },
     "execution_count": 51,
     "metadata": {},
     "output_type": "execute_result"
    }
   ],
   "source": [
    "ventes_2023.describe()"
   ]
  },
  {
   "cell_type": "markdown",
   "id": "819484a0",
   "metadata": {},
   "source": [
    "2022 est notre meilleure année concernant le chiffre d'affaires et du nombre de ventes jusqu'à présent, cependant les données de 2023 ne sont pas complètes s'arretant au mois de février. Il faudrait donc comparer mensuellement plutôt pour voir si la situation en février 2023 est meilleure que les années précédentes pour la même période. "
   ]
  },
  {
   "cell_type": "code",
   "execution_count": 52,
   "id": "fda2b150",
   "metadata": {},
   "outputs": [
    {
     "data": {
      "text/plain": [
       "356690   2023-02-28 23:58:30.792755\n",
       "Name: date, dtype: datetime64[ns]"
      ]
     },
     "execution_count": 52,
     "metadata": {},
     "output_type": "execute_result"
    }
   ],
   "source": [
    "ventes_df['date'].nlargest(1)"
   ]
  },
  {
   "cell_type": "markdown",
   "id": "3cb9547d",
   "metadata": {},
   "source": [
    "la dernière vente en 2023 est réalisée le 28 février à 23h58"
   ]
  },
  {
   "cell_type": "code",
   "execution_count": 53,
   "id": "825a824b",
   "metadata": {},
   "outputs": [],
   "source": [
    "# CA mensuel:\n",
    "ventes_df = ventes_df.sort_values([\"date\"],ascending=True)\n",
    "ca_mensu = ventes_df.groupby([\"year\",\"month\"])[\"price\"].sum()"
   ]
  },
  {
   "cell_type": "code",
   "execution_count": 54,
   "id": "04460889",
   "metadata": {},
   "outputs": [
    {
     "data": {
      "text/plain": [
       "Text(0.5, 1.0, \"Evolution mensuelle du chiffre d'affaires\")"
      ]
     },
     "execution_count": 54,
     "metadata": {},
     "output_type": "execute_result"
    },
    {
     "data": {
      "image/png": "[encoded data removed]",
      "text/plain": [
       "<Figure size 1440x432 with 1 Axes>"
      ]
     },
     "metadata": {
      "needs_background": "light"
     },
     "output_type": "display_data"
    }
   ],
   "source": [
    "# Nombre de ventes mensuelles:\n",
    "ventes_mensu = ventes_df.groupby([\"year\", \"month\"])[\"session_id\"].count()\n",
    "\n",
    "# Graphique:\n",
    "plt.figure(figsize = (20,6))\n",
    "ca_mensu.plot()\n",
    "plt.xlabel(\"Mois\")\n",
    "plt.ylabel(\"Montants (€)\")\n",
    "plt.title(\"Evolution mensuelle du chiffre d'affaires\")"
   ]
  },
  {
   "cell_type": "code",
   "execution_count": 55,
   "id": "c444241d",
   "metadata": {},
   "outputs": [
    {
     "data": {
      "text/plain": [
       "Text(0.5, 1.0, \"Evolution journalier du chiffre d'affaires\")"
      ]
     },
     "execution_count": 55,
     "metadata": {},
     "output_type": "execute_result"
    },
    {
     "data": {
      "image/png": "[encoded data removed]",
      "text/plain": [
       "<Figure size 1440x432 with 1 Axes>"
      ]
     },
     "metadata": {
      "needs_background": "light"
     },
     "output_type": "display_data"
    }
   ],
   "source": [
    "# CA journalier:\n",
    "ventes_df = ventes_df.sort_values([\"date\"],ascending=True)\n",
    "ca_journalier = ventes_df.groupby([\"year\",\"month\",\"day\"])[\"price\"].sum()\n",
    "# Nombre de ventes mensuelles:\n",
    "ventes_mensu = ventes_df.groupby([\"year\", \"day\"])[\"session_id\"].count()\n",
    "\n",
    "# Graphique:\n",
    "plt.figure(figsize = (20,6))\n",
    "ca_journalier.plot()\n",
    "plt.xlabel(\"jour\")\n",
    "plt.ylabel(\"Montants (€)\")\n",
    "plt.title(\"Evolution journalier du chiffre d'affaires\")"
   ]
  },
  {
   "cell_type": "code",
   "execution_count": 56,
   "id": "fe1a8afc",
   "metadata": {},
   "outputs": [
    {
     "name": "stdout",
     "output_type": "stream",
     "text": [
      "year  month  day\n",
      "2021  3      1               NaN\n",
      "             2               NaN\n",
      "             3               NaN\n",
      "             4               NaN\n",
      "             5               NaN\n",
      "                        ...     \n",
      "2023  2      24     16488.778571\n",
      "             25     16006.747143\n",
      "             26     16035.021429\n",
      "             27     16487.570000\n",
      "             28     16513.984286\n",
      "Name: price, Length: 730, dtype: float64\n"
     ]
    },
    {
     "data": {
      "text/plain": [
       "Text(0.5, 1.0, \"Moyenne mobile du chiffre d'affaire\")"
      ]
     },
     "execution_count": 56,
     "metadata": {},
     "output_type": "execute_result"
    },
    {
     "data": {
      "image/png": "[encoded data removed]",
      "text/plain": [
       "<Figure size 1440x432 with 1 Axes>"
      ]
     },
     "metadata": {
      "needs_background": "light"
     },
     "output_type": "display_data"
    }
   ],
   "source": [
    "# Decomposition en moyenne mobile:\n",
    "moyenne_mob = ca_journalier.rolling(7).mean()\n",
    "print(moyenne_mob)\n",
    "\n",
    "# Graphique:\n",
    "plt.figure(figsize = (20,6))\n",
    "moyenne_mob.plot()\n",
    "plt.xlabel(\"Période\")\n",
    "plt.ylabel(\"Chiffre d'affaires (€)\")\n",
    "plt.title(\"Moyenne mobile du chiffre d'affaire\")"
   ]
  },
  {
   "cell_type": "markdown",
   "id": "38282e83",
   "metadata": {},
   "source": [
    " l’intervalle de la fenêtre de temps est de 7, il y a six valeurs nan au départ car la moyenne mobile n’a pas pu être calculée pour elles."
   ]
  },
  {
   "cell_type": "markdown",
   "id": "f3aca92a",
   "metadata": {},
   "source": [
    "La moyenne mobile est fréquemment utilisée pour étudier les données de séries chronologiques en calculant la moyenne des données à des intervalles spécifiques. Il est utilisé pour lisser certaines fluctuations à court terme et étudier les tendances des données."
   ]
  },
  {
   "cell_type": "code",
   "execution_count": 57,
   "id": "031c9343",
   "metadata": {},
   "outputs": [
    {
     "name": "stdout",
     "output_type": "stream",
     "text": [
      "Nombre de ventes par catégories:\n",
      " categ\n",
      "0.0    415459\n",
      "1.0    227169\n",
      "2.0     36483\n",
      "Name: session_id, dtype: int64\n",
      "Prix moyen d'un livre selon sa catégorie:\n",
      " categ\n",
      "0.0    10.638188\n",
      "1.0    20.485730\n",
      "2.0    76.207412\n",
      "Name: price, dtype: float64\n",
      "Chiffre d'affaires par catégorie\n",
      " categ\n",
      "0.0    4419730.97\n",
      "1.0    4653722.69\n",
      "2.0    2780275.02\n",
      "Name: price, dtype: float64\n"
     ]
    },
    {
     "data": {
      "image/png": "[encoded data removed]",
      "text/plain": [
       "<Figure size 432x288 with 1 Axes>"
      ]
     },
     "metadata": {},
     "output_type": "display_data"
    }
   ],
   "source": [
    "\n",
    "# Volume de ventes par categories:\n",
    "vol_categ = ventes_df.groupby([\"categ\"])[\"session_id\"].count()\n",
    "\n",
    "print(\"Nombre de ventes par catégories:\\n\", vol_categ)\n",
    "\n",
    "# Prix moyen par categories:\n",
    "prix_categ = ventes_df.groupby([\"categ\"])[\"price\"].mean()\n",
    "print(\"Prix moyen d'un livre selon sa catégorie:\\n\",prix_categ)\n",
    "\n",
    "# CA par categories:\n",
    "ca_categ = ventes_df.groupby(ventes_df[\"categ\"])[\"price\"].sum()\n",
    "print(\"Chiffre d'affaires par catégorie\\n\",ca_categ)\n",
    "\n",
    "# Graphique:\n",
    "fig1, ax1 = plt.subplots()\n",
    "ax1.pie(ca_categ,\n",
    "        labels=[\"0\",\"1\",\"2\"],\n",
    "        autopct=\"%1.1f%%\",\n",
    "        colors=['blue', 'red', 'green'],\n",
    "        shadow=True)\n",
    "ax1.axis(\"equal\")\n",
    "plt.title(\"Répartition du chiffre d'affaires par catégories\")\n",
    "plt.show()\n"
   ]
  },
  {
   "cell_type": "markdown",
   "id": "031f9eb5",
   "metadata": {},
   "source": [
    "Nous vendons plus de livre de catégorie 0 mais c'est les livres de catégorie 1 qui nous rapporte plus avec une représentation du chiffre d'affaires à 39.3% sur l'ensemble des années."
   ]
  },
  {
   "cell_type": "code",
   "execution_count": 58,
   "id": "e9d080e0",
   "metadata": {},
   "outputs": [
    {
     "name": "stdout",
     "output_type": "stream",
     "text": [
      "Références les plus vendues\n",
      "id_prod\n",
      "1_369    2252\n",
      "1_417    2189\n",
      "1_414    2180\n",
      "1_498    2128\n",
      "1_425    2096\n",
      "1_403    1960\n",
      "1_412    1951\n",
      "1_413    1945\n",
      "1_406    1939\n",
      "1_407    1935\n",
      "Name: session_id, dtype: int64\n",
      "Références les moins vendues\n",
      "id_prod\n",
      "0_1151    1\n",
      "0_1284    1\n",
      "0_1379    1\n",
      "0_1498    1\n",
      "0_1539    1\n",
      "0_1601    1\n",
      "0_1633    1\n",
      "0_1683    1\n",
      "0_1728    1\n",
      "0_2201    1\n",
      "Name: session_id, dtype: int64\n"
     ]
    }
   ],
   "source": [
    "# Meilleures et pires ventes:\n",
    "nbr_ventes_ref = ventes_df.groupby([\"id_prod\"])[\"session_id\"].count()\n",
    "\n",
    "print(\"Références les plus vendues\")\n",
    "print(nbr_ventes_ref.nlargest(10))\n",
    "print(\"Références les moins vendues\")\n",
    "print(nbr_ventes_ref.nsmallest(10))"
   ]
  },
  {
   "cell_type": "markdown",
   "id": "134d83c8",
   "metadata": {},
   "source": [
    "les 3 références les plus vendues sont 1_369 , 1_417, 1_414"
   ]
  },
  {
   "cell_type": "markdown",
   "id": "1c724d32",
   "metadata": {},
   "source": [
    " **les profils de nos clients** <a class=\"anchor\" id=\"clients\"></a>\n",
    "\n",
    "[Sommaire](#Sommaire)"
   ]
  },
  {
   "cell_type": "code",
   "execution_count": 59,
   "id": "e80e1a9d",
   "metadata": {},
   "outputs": [
    {
     "name": "stdout",
     "output_type": "stream",
     "text": [
      "Il y a eu 342315 sessions mais 342275 ont terminé en ventes\n",
      "Une session aboutie en moyenne à 1.98 achats\n"
     ]
    }
   ],
   "source": [
    "# Nombre moyen d'achats par sessions:\n",
    "print(\"Il y a eu\",\n",
    "      complet_df[\"session_id\"].nunique(),\n",
    "      \"sessions mais\", ventes_df[\"session_id\"].nunique(), \"ont terminé en ventes\")\n",
    "\n",
    "print(\"Une session aboutie en moyenne à\",\n",
    "      round(complet_df.groupby([\"session_id\",\"client_id\"])[\"id_prod\"].count().mean(),2),\n",
    "      \"achats\")"
   ]
  },
  {
   "cell_type": "code",
   "execution_count": 60,
   "id": "454f6340",
   "metadata": {},
   "outputs": [
    {
     "name": "stdout",
     "output_type": "stream",
     "text": [
      "Clients ayant le plus dépensé\n",
      "client_id\n",
      "c_1609    324033.35\n",
      "c_4958    289760.34\n",
      "c_6714    153598.92\n",
      "c_3454    113637.93\n",
      "c_3263      5276.87\n",
      "c_1570      5271.62\n",
      "c_2899      5214.05\n",
      "c_2140      5208.82\n",
      "c_7319      5155.77\n",
      "c_7959      5085.45\n",
      "Name: price, dtype: float64\n"
     ]
    }
   ],
   "source": [
    "# Meilleurs clients:\n",
    "best_client = ventes_df.groupby([\"client_id\"])[\"price\"].sum()\n",
    "\n",
    "print(\"Clients ayant le plus dépensé\")\n",
    "print(best_client.nlargest(10))"
   ]
  },
  {
   "cell_type": "code",
   "execution_count": 61,
   "id": "d7b70d12",
   "metadata": {},
   "outputs": [
    {
     "data": {
      "text/html": [
       "<div>\n",
       "<style scoped>\n",
       "    .dataframe tbody tr th:only-of-type {\n",
       "        vertical-align: middle;\n",
       "    }\n",
       "\n",
       "    .dataframe tbody tr th {\n",
       "        vertical-align: top;\n",
       "    }\n",
       "\n",
       "    .dataframe thead th {\n",
       "        text-align: right;\n",
       "    }\n",
       "</style>\n",
       "<table border=\"1\" class=\"dataframe\">\n",
       "  <thead>\n",
       "    <tr style=\"text-align: right;\">\n",
       "      <th></th>\n",
       "      <th>client_id</th>\n",
       "      <th>sex</th>\n",
       "      <th>birth</th>\n",
       "    </tr>\n",
       "  </thead>\n",
       "  <tbody>\n",
       "  </tbody>\n",
       "</table>\n",
       "</div>"
      ],
      "text/plain": [
       "Empty DataFrame\n",
       "Columns: [client_id, sex, birth]\n",
       "Index: []"
      ]
     },
     "execution_count": 61,
     "metadata": {},
     "output_type": "execute_result"
    }
   ],
   "source": [
    "#id_client_ab = id_client[id_client['client_id'] == ('c_1609' , 'c_4958', 'c_6714', 'c_3454')]\n",
    "id_client_ab = id_client[id_client['client_id'] == ('c_3454' , 'c_1609' , 'c_4958', 'c_6714' )] \n",
    "id_client_ab"
   ]
  },
  {
   "cell_type": "markdown",
   "id": "938402df",
   "metadata": {},
   "source": [
    "Nous pouvons remarquer pour les 4 premiers ont un gros volume de ventes peut-être des institutions ou des revendeurs. Nous pouvons les exclures pour la suite de l'analyse ou les réintégrer si on souhaite les inclures dans l'analyse"
   ]
  },
  {
   "cell_type": "code",
   "execution_count": 62,
   "id": "999940b5",
   "metadata": {},
   "outputs": [
    {
     "name": "stdout",
     "output_type": "stream",
     "text": [
      "indice de Gini: 0.447\n"
     ]
    },
    {
     "data": {
      "image/png": "[encoded data removed]",
      "text/plain": [
       "<Figure size 432x288 with 1 Axes>"
      ]
     },
     "metadata": {
      "needs_background": "light"
     },
     "output_type": "display_data"
    }
   ],
   "source": [
    "# Courbe de Lorentz: (repartition du CA par clients)\n",
    "lorenz_CA_client = np.cumsum(np.sort(best_client)) / best_client.sum()\n",
    "lorenz_CA_client = np.append([0], lorenz_CA_client)\n",
    "plt.plot(np.linspace(0,1,len(lorenz_CA_client)), lorenz_CA_client, drawstyle=\"steps-post\")\n",
    "plt.plot(np.linspace(0,1,len(lorenz_CA_client)), np.linspace(0,1,len(lorenz_CA_client)), color =\"grey\", dashes=[2,4])\n",
    "plt.ylabel(\"Parts cumulées du chiffre d'affaires\")\n",
    "plt.xlabel(\"Parts cumulées des achats\")\n",
    "plt.title(\"Répartition du chiffre d'affaires entre les clients\")\n",
    "aire_ss_courbe_CA_client = lorenz_CA_client[:-1].sum() / len(lorenz_CA_client)\n",
    "S_ca_client = 0.5 - aire_ss_courbe_CA_client\n",
    "gini_CA_client = 2*S_ca_client\n",
    "print(\"indice de Gini:\",round(gini_CA_client,3))"
   ]
  },
  {
   "cell_type": "markdown",
   "id": "1627a1f4",
   "metadata": {},
   "source": [
    "la courbe de lorenz nous relève bien qu'il y a une répartition inégale sur l'ensemble , nous allons exclure les 4 gros achats afin de voir la répartition du chiffre d'affaires entre les clients"
   ]
  },
  {
   "cell_type": "code",
   "execution_count": 63,
   "id": "262def66",
   "metadata": {},
   "outputs": [],
   "source": [
    "ventes_df_2 = ventes_df\n",
    "ventes_df_2.drop(ventes_df_2[(ventes_df_2[\"client_id\"] == \"c_1609\")].index, inplace = True)\n",
    "ventes_df_2.drop(ventes_df_2[(ventes_df_2[\"client_id\"] == \"c_3454\")].index, inplace=True)\n",
    "ventes_df_2.drop(ventes_df_2[(ventes_df_2[\"client_id\"] == \"c_4958\")].index, inplace=True)\n",
    "ventes_df_2.drop(ventes_df_2[(ventes_df_2[\"client_id\"] == \"c_6714\")].index, inplace=True)"
   ]
  },
  {
   "cell_type": "code",
   "execution_count": 64,
   "id": "61b61f45",
   "metadata": {},
   "outputs": [
    {
     "name": "stdout",
     "output_type": "stream",
     "text": [
      "Clients ayant le plus dépensé\n",
      "client_id\n",
      "c_3263    5276.87\n",
      "c_1570    5271.62\n",
      "c_2899    5214.05\n",
      "c_2140    5208.82\n",
      "c_7319    5155.77\n",
      "c_7959    5085.45\n",
      "c_8026    5082.58\n",
      "c_7421    5050.20\n",
      "c_5263    5006.85\n",
      "c_1422    4993.55\n",
      "Name: price, dtype: float64\n"
     ]
    }
   ],
   "source": [
    "best_client_2 = ventes_df_2.groupby([\"client_id\"])[\"price\"].sum()\n",
    "\n",
    "print(\"Clients ayant le plus dépensé\")\n",
    "print(best_client_2.nlargest(10))"
   ]
  },
  {
   "cell_type": "code",
   "execution_count": 65,
   "id": "6d7124b4",
   "metadata": {},
   "outputs": [
    {
     "name": "stdout",
     "output_type": "stream",
     "text": [
      "indice de Gini: 0.403\n"
     ]
    },
    {
     "data": {
      "image/png": "[encoded data removed]",
      "text/plain": [
       "<Figure size 432x288 with 1 Axes>"
      ]
     },
     "metadata": {
      "needs_background": "light"
     },
     "output_type": "display_data"
    }
   ],
   "source": [
    "# Courbe de Lorentz: (repartition du CA par clients)\n",
    "lorenz_CA_client_2 = np.cumsum(np.sort(best_client_2)) / best_client_2.sum()\n",
    "lorenz_CA_client_2 = np.append([0], lorenz_CA_client_2)\n",
    "plt.plot(np.linspace(0,1,len(lorenz_CA_client_2)), lorenz_CA_client_2, drawstyle=\"steps-post\")\n",
    "plt.plot(np.linspace(0,1,len(lorenz_CA_client_2)), np.linspace(0,1,len(lorenz_CA_client_2)), color =\"grey\", dashes=[2,4])\n",
    "plt.ylabel(\"Parts cumulées du chiffre d'affaires\")\n",
    "plt.xlabel(\"Parts cumulées des achats\")\n",
    "plt.title(\"Répartition du chiffre d'affaires entre les clients\")\n",
    "aire_ss_courbe_CA_client_2 = lorenz_CA_client_2[:-1].sum() / len(lorenz_CA_client_2)\n",
    "S_ca_client_2 = 0.5 - aire_ss_courbe_CA_client_2\n",
    "gini_CA_client_2 = 2*S_ca_client_2\n",
    "print(\"indice de Gini:\",round(gini_CA_client_2,3))"
   ]
  },
  {
   "cell_type": "markdown",
   "id": "9d2a29e1",
   "metadata": {},
   "source": [
    "l'indice de Gini nous révèle la répartion équilibré du chiffre d'affaires entre les clients contrairement à la première courbe qui nous indiquer une répartition inégale entre les institutions ( ou revendeurs) dû a leur chiffre d'affaire aberrants"
   ]
  },
  {
   "cell_type": "code",
   "execution_count": null,
   "id": "ba59af4b",
   "metadata": {},
   "outputs": [],
   "source": []
  },
  {
   "cell_type": "code",
   "execution_count": 66,
   "id": "063c4cef",
   "metadata": {},
   "outputs": [
    {
     "name": "stdout",
     "output_type": "stream",
     "text": [
      "sex\n",
      "f    4490\n",
      "m    4131\n",
      "Name: client_id, dtype: int64\n"
     ]
    },
    {
     "data": {
      "image/png": "[encoded data removed]",
      "text/plain": [
       "<Figure size 432x288 with 1 Axes>"
      ]
     },
     "metadata": {},
     "output_type": "display_data"
    }
   ],
   "source": [
    "# Repartition des genres parmis nos clients:\n",
    "repartition_genre = id_client.groupby([\"sex\"])[\"client_id\"].count()\n",
    "print(repartition_genre)\n",
    "\n",
    "# Graphique:\n",
    "fig2, ax2 = plt.subplots()\n",
    "ax2.pie(repartition_genre,\n",
    "        labels=[\"Femmes\",\"Homme\"],\n",
    "        autopct=\"%1.1f%%\",\n",
    "        colors=[\"red\",\"blue\"],\n",
    "        shadow=True)\n",
    "ax2.axis(\"equal\")\n",
    "plt.title(\"Répartition des genres au sein de notre clientèle\")\n",
    "plt.show()"
   ]
  },
  {
   "cell_type": "markdown",
   "id": "68bacd3f",
   "metadata": {},
   "source": [
    "Notre clientèle est composé de 52.1% de femmes et 47.9% d'hommes"
   ]
  },
  {
   "cell_type": "code",
   "execution_count": 67,
   "id": "1dc0d95d",
   "metadata": {},
   "outputs": [
    {
     "name": "stdout",
     "output_type": "stream",
     "text": [
      "montant total des achats par genre:\n",
      " sex\n",
      "f    5706084.21\n",
      "m    5266613.93\n",
      "Name: price, dtype: float64\n",
      "nombre total d'achats par genre:\n",
      " sex\n",
      "f    329104\n",
      "m    303373\n",
      "Name: price, dtype: int64\n",
      "montant moyen des achats par genre:\n",
      " sex\n",
      "f    17.338240\n",
      "m    17.360193\n",
      "Name: price, dtype: float64\n"
     ]
    },
    {
     "data": {
      "image/png": "[encoded data removed]",
      "text/plain": [
       "<Figure size 432x288 with 1 Axes>"
      ]
     },
     "metadata": {},
     "output_type": "display_data"
    }
   ],
   "source": [
    "# Depenses par genres :\n",
    "repartition_achats_genre = ventes_df_2.groupby([\"sex\"])[\"price\"].sum()\n",
    "print(\"montant total des achats par genre:\\n\", repartition_achats_genre)\n",
    "\n",
    "nbr_achats_genre = ventes_df_2.groupby([\"sex\"])[\"price\"].count()\n",
    "print(\"nombre total d'achats par genre:\\n\", nbr_achats_genre)\n",
    "\n",
    "moy_achats_genre = ventes_df_2.groupby([\"sex\"])[\"price\"].mean()\n",
    "print(\"montant moyen des achats par genre:\\n\", moy_achats_genre)\n",
    "\n",
    "\n",
    "# Graphique:\n",
    "fig3, ax3 = plt.subplots()\n",
    "ax3.pie(repartition_achats_genre,\n",
    "        labels=[\"Femmes\",\"Homme\"],\n",
    "        autopct=\"%1.1f%%\",\n",
    "        colors=[\"blue\",\"red\"],\n",
    "        shadow=True)\n",
    "ax3.axis(\"equal\")\n",
    "plt.title(\"Participation au chiffre d'affaires par genres\")\n",
    "plt.show()"
   ]
  },
  {
   "cell_type": "markdown",
   "id": "3c064775",
   "metadata": {},
   "source": [
    "Pour rappel les 4 gros acheteurs ont été exclus de l'analyse mais présent dans la dataframe ventes_df"
   ]
  },
  {
   "cell_type": "code",
   "execution_count": 68,
   "id": "cbf38102",
   "metadata": {},
   "outputs": [
    {
     "data": {
      "image/png": "[encoded data removed]",
      "text/plain": [
       "<Figure size 432x288 with 1 Axes>"
      ]
     },
     "metadata": {
      "needs_background": "light"
     },
     "output_type": "display_data"
    }
   ],
   "source": [
    "# Repartition des ages parmis nos clients:\n",
    "sns.histplot(data=ventes_df_2[\"age\"],\n",
    "             bins=40,\n",
    "             kde=True)\n",
    "plt.title(\"Répartition des âges au sein de notre clientèle\")\n",
    "plt.ylabel(\"Nombre de clients\")\n",
    "plt.xlabel(\"Age (années)\")\n",
    "plt.show()"
   ]
  },
  {
   "cell_type": "markdown",
   "id": "17332a5f",
   "metadata": {},
   "source": [
    "comme on peut le voir il y a une forte concentration de notre clientèle pour la tranche d'age de 30-50 ans "
   ]
  },
  {
   "cell_type": "code",
   "execution_count": 69,
   "id": "6993ffec",
   "metadata": {},
   "outputs": [
    {
     "name": "stdout",
     "output_type": "stream",
     "text": [
      "montant total des achats par tranches d'age:\n",
      " age_range\n",
      "(0, 25]      1990501.26\n",
      "(25, 50]     6272191.27\n",
      "(50, 75]     2422527.40\n",
      "(75, 100]     287478.21\n",
      "Name: price, dtype: float64\n",
      "nombre total d'achats par tranches d'age:\n",
      " age_range\n",
      "(0, 25]       49473\n",
      "(25, 50]     421171\n",
      "(50, 75]     144777\n",
      "(75, 100]     17056\n",
      "Name: price, dtype: int64\n",
      "montant moyen des achats par tranches d'age:\n",
      " age_range\n",
      "(0, 25]      40.234093\n",
      "(25, 50]     14.892268\n",
      "(50, 75]     16.732819\n",
      "(75, 100]    16.854961\n",
      "Name: price, dtype: float64\n"
     ]
    }
   ],
   "source": [
    "# Ajout des tranches d'ages:\n",
    "ventes_df_2[\"age_range\"] = pd.cut(x= ventes_df_2[\"age\"], bins=[0,25,50,75,100], include_lowest=False, ordered=True)\n",
    "\n",
    "# Repartition des achats par tranches d'ages:\n",
    "repartition_achats_age_range = ventes_df_2.groupby([\"age_range\"])[\"price\"].sum()\n",
    "print(\"montant total des achats par tranches d'age:\\n\", repartition_achats_age_range)\n",
    "\n",
    "# Nombre d'achats par tranches d'ages:\n",
    "nbr_achats_age_range = ventes_df_2.groupby([\"age_range\"])[\"price\"].count()\n",
    "print(\"nombre total d'achats par tranches d'age:\\n\",nbr_achats_age_range)\n",
    "\n",
    "# Motant moyen des achats par tranches d'ages:\n",
    "moy_achats_age_range = ventes_df_2.groupby([\"age_range\"])[\"price\"].mean()\n",
    "print(\"montant moyen des achats par tranches d'age:\\n\", moy_achats_age_range)"
   ]
  },
  {
   "cell_type": "markdown",
   "id": "85b92e6a",
   "metadata": {},
   "source": [
    "les 0-25 ans ont le montant moyen des achats le plus élevé , mais c'est les 25-50 ans qui dépense le plus pour un montant total de 6272191 et constitue par la même occasion le nombre total d'achats le plus élevé avec 421171 sur l'ensemble des années étudier. Il serait intéressant de cibler pour les prochaines campagnes marketing les moins de 25 ans afin d'en augmenter le nombre parmi notre clientèle, car le montant moyen des achats pour les moins de 25 ans est de 40.23."
   ]
  },
  {
   "cell_type": "code",
   "execution_count": null,
   "id": "d7fee2b1",
   "metadata": {},
   "outputs": [],
   "source": [
    "\n"
   ]
  },
  {
   "cell_type": "code",
   "execution_count": 70,
   "id": "f416e906",
   "metadata": {},
   "outputs": [
    {
     "data": {
      "text/html": [
       "<div>\n",
       "<style scoped>\n",
       "    .dataframe tbody tr th:only-of-type {\n",
       "        vertical-align: middle;\n",
       "    }\n",
       "\n",
       "    .dataframe tbody tr th {\n",
       "        vertical-align: top;\n",
       "    }\n",
       "\n",
       "    .dataframe thead th {\n",
       "        text-align: right;\n",
       "    }\n",
       "</style>\n",
       "<table border=\"1\" class=\"dataframe\">\n",
       "  <thead>\n",
       "    <tr style=\"text-align: right;\">\n",
       "      <th></th>\n",
       "      <th>id_prod</th>\n",
       "      <th>date</th>\n",
       "      <th>session_id</th>\n",
       "      <th>client_id</th>\n",
       "      <th>sex</th>\n",
       "      <th>birth</th>\n",
       "      <th>price</th>\n",
       "      <th>categ</th>\n",
       "      <th>_merge</th>\n",
       "      <th>year</th>\n",
       "      <th>month</th>\n",
       "      <th>day</th>\n",
       "      <th>age</th>\n",
       "      <th>age_range</th>\n",
       "    </tr>\n",
       "  </thead>\n",
       "  <tbody>\n",
       "    <tr>\n",
       "      <th>191139</th>\n",
       "      <td>0_1259</td>\n",
       "      <td>2021-03-01 00:01:07.843138</td>\n",
       "      <td>s_1</td>\n",
       "      <td>c_329</td>\n",
       "      <td>f</td>\n",
       "      <td>1967.0</td>\n",
       "      <td>11.99</td>\n",
       "      <td>0.0</td>\n",
       "      <td>both</td>\n",
       "      <td>2021</td>\n",
       "      <td>3</td>\n",
       "      <td>1</td>\n",
       "      <td>54.0</td>\n",
       "      <td>(50, 75]</td>\n",
       "    </tr>\n",
       "    <tr>\n",
       "      <th>2269</th>\n",
       "      <td>0_1390</td>\n",
       "      <td>2021-03-01 00:02:26.047414</td>\n",
       "      <td>s_2</td>\n",
       "      <td>c_664</td>\n",
       "      <td>m</td>\n",
       "      <td>1960.0</td>\n",
       "      <td>19.37</td>\n",
       "      <td>0.0</td>\n",
       "      <td>both</td>\n",
       "      <td>2021</td>\n",
       "      <td>3</td>\n",
       "      <td>1</td>\n",
       "      <td>61.0</td>\n",
       "      <td>(50, 75]</td>\n",
       "    </tr>\n",
       "    <tr>\n",
       "      <th>441509</th>\n",
       "      <td>0_1352</td>\n",
       "      <td>2021-03-01 00:02:38.311413</td>\n",
       "      <td>s_3</td>\n",
       "      <td>c_580</td>\n",
       "      <td>m</td>\n",
       "      <td>1988.0</td>\n",
       "      <td>4.50</td>\n",
       "      <td>0.0</td>\n",
       "      <td>both</td>\n",
       "      <td>2021</td>\n",
       "      <td>3</td>\n",
       "      <td>1</td>\n",
       "      <td>33.0</td>\n",
       "      <td>(25, 50]</td>\n",
       "    </tr>\n",
       "    <tr>\n",
       "      <th>446670</th>\n",
       "      <td>0_1458</td>\n",
       "      <td>2021-03-01 00:04:54.559692</td>\n",
       "      <td>s_4</td>\n",
       "      <td>c_7912</td>\n",
       "      <td>f</td>\n",
       "      <td>1989.0</td>\n",
       "      <td>6.55</td>\n",
       "      <td>0.0</td>\n",
       "      <td>both</td>\n",
       "      <td>2021</td>\n",
       "      <td>3</td>\n",
       "      <td>1</td>\n",
       "      <td>32.0</td>\n",
       "      <td>(25, 50]</td>\n",
       "    </tr>\n",
       "    <tr>\n",
       "      <th>67108</th>\n",
       "      <td>0_1358</td>\n",
       "      <td>2021-03-01 00:05:18.801198</td>\n",
       "      <td>s_5</td>\n",
       "      <td>c_2033</td>\n",
       "      <td>f</td>\n",
       "      <td>1956.0</td>\n",
       "      <td>16.49</td>\n",
       "      <td>0.0</td>\n",
       "      <td>both</td>\n",
       "      <td>2021</td>\n",
       "      <td>3</td>\n",
       "      <td>1</td>\n",
       "      <td>65.0</td>\n",
       "      <td>(50, 75]</td>\n",
       "    </tr>\n",
       "    <tr>\n",
       "      <th>...</th>\n",
       "      <td>...</td>\n",
       "      <td>...</td>\n",
       "      <td>...</td>\n",
       "      <td>...</td>\n",
       "      <td>...</td>\n",
       "      <td>...</td>\n",
       "      <td>...</td>\n",
       "      <td>...</td>\n",
       "      <td>...</td>\n",
       "      <td>...</td>\n",
       "      <td>...</td>\n",
       "      <td>...</td>\n",
       "      <td>...</td>\n",
       "      <td>...</td>\n",
       "    </tr>\n",
       "    <tr>\n",
       "      <th>510204</th>\n",
       "      <td>1_508</td>\n",
       "      <td>2023-02-28 23:49:03.148402</td>\n",
       "      <td>s_348444</td>\n",
       "      <td>c_3573</td>\n",
       "      <td>f</td>\n",
       "      <td>1996.0</td>\n",
       "      <td>21.92</td>\n",
       "      <td>1.0</td>\n",
       "      <td>both</td>\n",
       "      <td>2023</td>\n",
       "      <td>2</td>\n",
       "      <td>28</td>\n",
       "      <td>27.0</td>\n",
       "      <td>(25, 50]</td>\n",
       "    </tr>\n",
       "    <tr>\n",
       "      <th>271337</th>\n",
       "      <td>2_37</td>\n",
       "      <td>2023-02-28 23:51:29.318531</td>\n",
       "      <td>s_348445</td>\n",
       "      <td>c_50</td>\n",
       "      <td>f</td>\n",
       "      <td>1994.0</td>\n",
       "      <td>48.99</td>\n",
       "      <td>2.0</td>\n",
       "      <td>both</td>\n",
       "      <td>2023</td>\n",
       "      <td>2</td>\n",
       "      <td>28</td>\n",
       "      <td>29.0</td>\n",
       "      <td>(25, 50]</td>\n",
       "    </tr>\n",
       "    <tr>\n",
       "      <th>225071</th>\n",
       "      <td>1_695</td>\n",
       "      <td>2023-02-28 23:53:18.929676</td>\n",
       "      <td>s_348446</td>\n",
       "      <td>c_488</td>\n",
       "      <td>f</td>\n",
       "      <td>1985.0</td>\n",
       "      <td>26.99</td>\n",
       "      <td>1.0</td>\n",
       "      <td>both</td>\n",
       "      <td>2023</td>\n",
       "      <td>2</td>\n",
       "      <td>28</td>\n",
       "      <td>38.0</td>\n",
       "      <td>(25, 50]</td>\n",
       "    </tr>\n",
       "    <tr>\n",
       "      <th>3230</th>\n",
       "      <td>0_1547</td>\n",
       "      <td>2023-02-28 23:58:00.107815</td>\n",
       "      <td>s_348447</td>\n",
       "      <td>c_4848</td>\n",
       "      <td>m</td>\n",
       "      <td>1953.0</td>\n",
       "      <td>8.99</td>\n",
       "      <td>0.0</td>\n",
       "      <td>both</td>\n",
       "      <td>2023</td>\n",
       "      <td>2</td>\n",
       "      <td>28</td>\n",
       "      <td>70.0</td>\n",
       "      <td>(50, 75]</td>\n",
       "    </tr>\n",
       "    <tr>\n",
       "      <th>356690</th>\n",
       "      <td>0_1398</td>\n",
       "      <td>2023-02-28 23:58:30.792755</td>\n",
       "      <td>s_348435</td>\n",
       "      <td>c_3575</td>\n",
       "      <td>f</td>\n",
       "      <td>1981.0</td>\n",
       "      <td>4.52</td>\n",
       "      <td>0.0</td>\n",
       "      <td>both</td>\n",
       "      <td>2023</td>\n",
       "      <td>2</td>\n",
       "      <td>28</td>\n",
       "      <td>42.0</td>\n",
       "      <td>(25, 50]</td>\n",
       "    </tr>\n",
       "  </tbody>\n",
       "</table>\n",
       "<p>632477 rows × 14 columns</p>\n",
       "</div>"
      ],
      "text/plain": [
       "       id_prod                       date session_id client_id sex   birth  \\\n",
       "191139  0_1259 2021-03-01 00:01:07.843138        s_1     c_329   f  1967.0   \n",
       "2269    0_1390 2021-03-01 00:02:26.047414        s_2     c_664   m  1960.0   \n",
       "441509  0_1352 2021-03-01 00:02:38.311413        s_3     c_580   m  1988.0   \n",
       "446670  0_1458 2021-03-01 00:04:54.559692        s_4    c_7912   f  1989.0   \n",
       "67108   0_1358 2021-03-01 00:05:18.801198        s_5    c_2033   f  1956.0   \n",
       "...        ...                        ...        ...       ...  ..     ...   \n",
       "510204   1_508 2023-02-28 23:49:03.148402   s_348444    c_3573   f  1996.0   \n",
       "271337    2_37 2023-02-28 23:51:29.318531   s_348445      c_50   f  1994.0   \n",
       "225071   1_695 2023-02-28 23:53:18.929676   s_348446     c_488   f  1985.0   \n",
       "3230    0_1547 2023-02-28 23:58:00.107815   s_348447    c_4848   m  1953.0   \n",
       "356690  0_1398 2023-02-28 23:58:30.792755   s_348435    c_3575   f  1981.0   \n",
       "\n",
       "        price  categ _merge  year  month  day   age age_range  \n",
       "191139  11.99    0.0   both  2021      3    1  54.0  (50, 75]  \n",
       "2269    19.37    0.0   both  2021      3    1  61.0  (50, 75]  \n",
       "441509   4.50    0.0   both  2021      3    1  33.0  (25, 50]  \n",
       "446670   6.55    0.0   both  2021      3    1  32.0  (25, 50]  \n",
       "67108   16.49    0.0   both  2021      3    1  65.0  (50, 75]  \n",
       "...       ...    ...    ...   ...    ...  ...   ...       ...  \n",
       "510204  21.92    1.0   both  2023      2   28  27.0  (25, 50]  \n",
       "271337  48.99    2.0   both  2023      2   28  29.0  (25, 50]  \n",
       "225071  26.99    1.0   both  2023      2   28  38.0  (25, 50]  \n",
       "3230     8.99    0.0   both  2023      2   28  70.0  (50, 75]  \n",
       "356690   4.52    0.0   both  2023      2   28  42.0  (25, 50]  \n",
       "\n",
       "[632477 rows x 14 columns]"
      ]
     },
     "execution_count": 70,
     "metadata": {},
     "output_type": "execute_result"
    }
   ],
   "source": [
    "ventes_df_2"
   ]
  },
  {
   "cell_type": "code",
   "execution_count": 71,
   "id": "f7e75169",
   "metadata": {},
   "outputs": [
    {
     "data": {
      "text/plain": [
       "Text(0.5, 1.0, 'Motant des achats par âges')"
      ]
     },
     "execution_count": 71,
     "metadata": {},
     "output_type": "execute_result"
    },
    {
     "data": {
      "image/png": "[encoded data removed]",
      "text/plain": [
       "<Figure size 432x288 with 1 Axes>"
      ]
     },
     "metadata": {
      "needs_background": "light"
     },
     "output_type": "display_data"
    }
   ],
   "source": [
    "# Lien entre l'age et le montant des achats:\n",
    "age = ventes_df_2.groupby([\"age\"])[\"client_id\"].count()\n",
    "tot_achats_age = ventes_df_2.groupby([\"age\"])[\"price\"].sum()\n",
    "\n",
    "\n",
    "# Graphique:\n",
    "sns.scatterplot(data= tot_achats_age)\n",
    "plt.ylabel(\"Montant (€)\")\n",
    "plt.xlabel(\"Age (années)\")\n",
    "plt.title(\"Motant des achats par âges\")"
   ]
  },
  {
   "cell_type": "markdown",
   "id": "3705d0b0",
   "metadata": {},
   "source": [
    "Nous pouvons remarquer un outliers pour les 18 ans . "
   ]
  },
  {
   "cell_type": "code",
   "execution_count": 72,
   "id": "470a6abb",
   "metadata": {},
   "outputs": [
    {
     "data": {
      "text/plain": [
       "Text(0.5, 1.0, \"Nombre d'achats selon l'âge\")"
      ]
     },
     "execution_count": 72,
     "metadata": {},
     "output_type": "execute_result"
    },
    {
     "data": {
      "image/png": "[encoded data removed]",
      "text/plain": [
       "<Figure size 432x288 with 1 Axes>"
      ]
     },
     "metadata": {
      "needs_background": "light"
     },
     "output_type": "display_data"
    }
   ],
   "source": [
    "# Lien entre l'age et la taille du panier:\n",
    "nbr_achats_age = ventes_df_2.groupby([\"age\"])[\"session_id\"].count()\n",
    "\n",
    "# Graphique:\n",
    "sns.scatterplot(data= nbr_achats_age)\n",
    "plt.ylabel(\"Nombre d'achats\")\n",
    "plt.xlabel(\"Age (années)\")\n",
    "plt.title(\"Nombre d'achats selon l'âge\")"
   ]
  },
  {
   "cell_type": "code",
   "execution_count": 73,
   "id": "55913d76",
   "metadata": {},
   "outputs": [
    {
     "data": {
      "text/plain": [
       "ShapiroResult(statistic=0.979759156703949, pvalue=0.12731388211250305)"
      ]
     },
     "execution_count": 73,
     "metadata": {},
     "output_type": "execute_result"
    }
   ],
   "source": [
    "#hypothèse de linéarité - test de normalité Shapiro\n",
    "from scipy import stats\n",
    "rng = np.random.default_rng()\n",
    "x = stats.norm.rvs(loc=5, scale=3, size=100, random_state=rng)\n",
    "shapiro_test = stats.shapiro(x)\n",
    "shapiro_test\n"
   ]
  },
  {
   "cell_type": "markdown",
   "id": "c6cc7a97",
   "metadata": {},
   "source": [
    "la p-value est supérieure au niveau alpha choisi (0.05), alors on ne doit pas rejeter l'hypothèse nulle. La valeur de la p-value alors obtenue ne présuppose en rien de la nature de la distribution des données."
   ]
  },
  {
   "cell_type": "markdown",
   "id": "1700648a",
   "metadata": {},
   "source": [
    "**ANOVA**"
   ]
  },
  {
   "cell_type": "code",
   "execution_count": 74,
   "id": "a42cd542",
   "metadata": {},
   "outputs": [
    {
     "data": {
      "text/plain": [
       "Index(['id_prod', 'date', 'session_id', 'client_id', 'sex', 'birth', 'price',\n",
       "       'categ', '_merge', 'year', 'month', 'day', 'age', 'age_range'],\n",
       "      dtype='object')"
      ]
     },
     "execution_count": 74,
     "metadata": {},
     "output_type": "execute_result"
    }
   ],
   "source": [
    "ventes_df_2.columns"
   ]
  },
  {
   "cell_type": "code",
   "execution_count": 75,
   "id": "59dd3c74",
   "metadata": {},
   "outputs": [],
   "source": [
    "X = \"categ\" # qualitative\n",
    "Y = \"age\" # quantitative\n",
    "\n",
    "# On ne garde que les dépenses\n",
    "sous_echantillon = ventes_df_2[ventes_df_2[\"age\"]>10].copy()\n",
    "# On remet les dépenses en positif\n",
    "#sous_echantillon[\"age\"] = -sous_echantillon[\"age\"]\n",
    "# On n'étudie pas les loyers car trop gros:\n",
    "#sous_echantillon = sous_echantillon[sous_echantillon[\"categ\"] != \"LOYER\"] "
   ]
  },
  {
   "cell_type": "code",
   "execution_count": 76,
   "id": "1be805c7",
   "metadata": {},
   "outputs": [
    {
     "data": {
      "text/plain": [
       "array([0., 1., 2.])"
      ]
     },
     "execution_count": 76,
     "metadata": {},
     "output_type": "execute_result"
    }
   ],
   "source": [
    "sous_echantillon[X].unique()"
   ]
  },
  {
   "cell_type": "code",
   "execution_count": 77,
   "id": "768d18ed",
   "metadata": {},
   "outputs": [],
   "source": [
    "modalites = sous_echantillon[X].unique()\n",
    "groupes = []\n",
    "for m in modalites:\n",
    "    groupes.append(sous_echantillon[sous_echantillon[X]==m][Y])\n",
    "\n"
   ]
  },
  {
   "cell_type": "code",
   "execution_count": 78,
   "id": "6519e336",
   "metadata": {},
   "outputs": [
    {
     "name": "stdout",
     "output_type": "stream",
     "text": [
      "0.11333046867894486\n"
     ]
    }
   ],
   "source": [
    "X = \"categ\" # qualitative\n",
    "Y = \"age\" # quantitative\n",
    "\n",
    "sous_echantillon = ventes_df_2.copy() # On ne garde que les dépenses\n",
    "\n",
    "def eta_squared(x,y):\n",
    "    moyenne_y = y.mean()\n",
    "    classes = []\n",
    "    for classe in x.unique():\n",
    "        yi_classe = y[x==classe]\n",
    "        classes.append({'ni': len(yi_classe),\n",
    "                        'moyenne_classe': yi_classe.mean()})\n",
    "    SCT = sum([(yj-moyenne_y)**2 for yj in y])\n",
    "    SCE = sum([c['ni']*(c['moyenne_classe']-moyenne_y)**2 for c in classes])\n",
    "    return SCE/SCT\n",
    "    \n",
    "print(eta_squared(sous_echantillon[X],sous_echantillon[Y]))"
   ]
  },
  {
   "cell_type": "markdown",
   "id": "807a5962",
   "metadata": {},
   "source": [
    "eta_squared est égale à 0.11 ce qui nous montre qu'il y a une corrélation entre les deux variables"
   ]
  },
  {
   "cell_type": "code",
   "execution_count": 79,
   "id": "4b0923c9",
   "metadata": {},
   "outputs": [
    {
     "data": {
      "image/png": "[encoded data removed]",
      "text/plain": [
       "<Figure size 432x288 with 1 Axes>"
      ]
     },
     "metadata": {
      "needs_background": "light"
     },
     "output_type": "display_data"
    }
   ],
   "source": [
    "# Categories les plus achetees par age:\n",
    "\n",
    "categ = ventes_df_2[\"categ\"].unique()\n",
    "categ_age = {categ: ventes_df_2.loc[ventes_df_2[\"categ\"]==categ, \"age\"] for categ in categ}\n",
    "\n",
    "# Graphique:\n",
    "plt.boxplot([\n",
    "    categ_age[0],\n",
    "    categ_age[1],\n",
    "    categ_age[2]]\n",
    "    ,labels=[\"Catégorie 0\", \"Catégorie 1\", \"Catégorie 2\"],showmeans=True, showfliers=False)\n",
    "plt.ylabel(\"Age (années)\")\n",
    "plt.title(\"Distribution des âges des acheteurs par catégories\")\n",
    "plt.show()\n"
   ]
  },
  {
   "cell_type": "code",
   "execution_count": 80,
   "id": "308e347d",
   "metadata": {},
   "outputs": [
    {
     "data": {
      "text/html": [
       "<div>\n",
       "<style scoped>\n",
       "    .dataframe tbody tr th:only-of-type {\n",
       "        vertical-align: middle;\n",
       "    }\n",
       "\n",
       "    .dataframe tbody tr th {\n",
       "        vertical-align: top;\n",
       "    }\n",
       "\n",
       "    .dataframe thead th {\n",
       "        text-align: right;\n",
       "    }\n",
       "</style>\n",
       "<table border=\"1\" class=\"dataframe\">\n",
       "  <thead>\n",
       "    <tr style=\"text-align: right;\">\n",
       "      <th></th>\n",
       "      <th>id_prod</th>\n",
       "      <th>date</th>\n",
       "      <th>session_id</th>\n",
       "      <th>client_id</th>\n",
       "      <th>sex</th>\n",
       "      <th>birth</th>\n",
       "      <th>price</th>\n",
       "      <th>categ</th>\n",
       "      <th>_merge</th>\n",
       "      <th>year</th>\n",
       "      <th>month</th>\n",
       "      <th>day</th>\n",
       "      <th>age</th>\n",
       "      <th>age_range</th>\n",
       "    </tr>\n",
       "  </thead>\n",
       "  <tbody>\n",
       "    <tr>\n",
       "      <th>191139</th>\n",
       "      <td>0_1259</td>\n",
       "      <td>2021-03-01 00:01:07.843138</td>\n",
       "      <td>s_1</td>\n",
       "      <td>c_329</td>\n",
       "      <td>f</td>\n",
       "      <td>1967.0</td>\n",
       "      <td>11.99</td>\n",
       "      <td>0.0</td>\n",
       "      <td>both</td>\n",
       "      <td>2021</td>\n",
       "      <td>3</td>\n",
       "      <td>1</td>\n",
       "      <td>54.0</td>\n",
       "      <td>(50, 75]</td>\n",
       "    </tr>\n",
       "    <tr>\n",
       "      <th>2269</th>\n",
       "      <td>0_1390</td>\n",
       "      <td>2021-03-01 00:02:26.047414</td>\n",
       "      <td>s_2</td>\n",
       "      <td>c_664</td>\n",
       "      <td>m</td>\n",
       "      <td>1960.0</td>\n",
       "      <td>19.37</td>\n",
       "      <td>0.0</td>\n",
       "      <td>both</td>\n",
       "      <td>2021</td>\n",
       "      <td>3</td>\n",
       "      <td>1</td>\n",
       "      <td>61.0</td>\n",
       "      <td>(50, 75]</td>\n",
       "    </tr>\n",
       "    <tr>\n",
       "      <th>441509</th>\n",
       "      <td>0_1352</td>\n",
       "      <td>2021-03-01 00:02:38.311413</td>\n",
       "      <td>s_3</td>\n",
       "      <td>c_580</td>\n",
       "      <td>m</td>\n",
       "      <td>1988.0</td>\n",
       "      <td>4.50</td>\n",
       "      <td>0.0</td>\n",
       "      <td>both</td>\n",
       "      <td>2021</td>\n",
       "      <td>3</td>\n",
       "      <td>1</td>\n",
       "      <td>33.0</td>\n",
       "      <td>(25, 50]</td>\n",
       "    </tr>\n",
       "    <tr>\n",
       "      <th>446670</th>\n",
       "      <td>0_1458</td>\n",
       "      <td>2021-03-01 00:04:54.559692</td>\n",
       "      <td>s_4</td>\n",
       "      <td>c_7912</td>\n",
       "      <td>f</td>\n",
       "      <td>1989.0</td>\n",
       "      <td>6.55</td>\n",
       "      <td>0.0</td>\n",
       "      <td>both</td>\n",
       "      <td>2021</td>\n",
       "      <td>3</td>\n",
       "      <td>1</td>\n",
       "      <td>32.0</td>\n",
       "      <td>(25, 50]</td>\n",
       "    </tr>\n",
       "    <tr>\n",
       "      <th>67108</th>\n",
       "      <td>0_1358</td>\n",
       "      <td>2021-03-01 00:05:18.801198</td>\n",
       "      <td>s_5</td>\n",
       "      <td>c_2033</td>\n",
       "      <td>f</td>\n",
       "      <td>1956.0</td>\n",
       "      <td>16.49</td>\n",
       "      <td>0.0</td>\n",
       "      <td>both</td>\n",
       "      <td>2021</td>\n",
       "      <td>3</td>\n",
       "      <td>1</td>\n",
       "      <td>65.0</td>\n",
       "      <td>(50, 75]</td>\n",
       "    </tr>\n",
       "  </tbody>\n",
       "</table>\n",
       "</div>"
      ],
      "text/plain": [
       "       id_prod                       date session_id client_id sex   birth  \\\n",
       "191139  0_1259 2021-03-01 00:01:07.843138        s_1     c_329   f  1967.0   \n",
       "2269    0_1390 2021-03-01 00:02:26.047414        s_2     c_664   m  1960.0   \n",
       "441509  0_1352 2021-03-01 00:02:38.311413        s_3     c_580   m  1988.0   \n",
       "446670  0_1458 2021-03-01 00:04:54.559692        s_4    c_7912   f  1989.0   \n",
       "67108   0_1358 2021-03-01 00:05:18.801198        s_5    c_2033   f  1956.0   \n",
       "\n",
       "        price  categ _merge  year  month  day   age age_range  \n",
       "191139  11.99    0.0   both  2021      3    1  54.0  (50, 75]  \n",
       "2269    19.37    0.0   both  2021      3    1  61.0  (50, 75]  \n",
       "441509   4.50    0.0   both  2021      3    1  33.0  (25, 50]  \n",
       "446670   6.55    0.0   both  2021      3    1  32.0  (25, 50]  \n",
       "67108   16.49    0.0   both  2021      3    1  65.0  (50, 75]  "
      ]
     },
     "execution_count": 80,
     "metadata": {},
     "output_type": "execute_result"
    }
   ],
   "source": [
    "ventes_df_2.head()\n"
   ]
  },
  {
   "cell_type": "code",
   "execution_count": 81,
   "id": "297624fe",
   "metadata": {},
   "outputs": [
    {
     "name": "stdout",
     "output_type": "stream",
     "text": [
      "0.1968365511305894\n",
      "49.382275660187986\n"
     ]
    }
   ],
   "source": [
    "import scipy.stats as st\n",
    "import numpy as np\n",
    "#le coefficient de Pearson et la covariance\n",
    "print(st.pearsonr(ventes_df_2[\"age\"],-ventes_df_2[\"price\"])[0])\n",
    "print(np.cov(ventes_df_2[\"age\"],-ventes_df_2[\"price\"],ddof=0)[1,0])"
   ]
  },
  {
   "cell_type": "markdown",
   "id": "beec519c",
   "metadata": {},
   "source": [
    "\n",
    "Rappel : Si le coefficient de corrélation de Pearson est proche de 1, cela indique une forte corrélation positive, ce qui signifie que les deux variables augmentent ou diminuent ensemble. Elle est de 0.19 ce qui veut dire qu'il y a une faible corrélation entre l'age et le prix\n",
    "\n",
    "Si la covariance est positive, cela signifie que les deux variables ont tendance à augmenter ou diminuer ensemble. \n"
   ]
  },
  {
   "cell_type": "code",
   "execution_count": 82,
   "id": "fb62c842",
   "metadata": {},
   "outputs": [
    {
     "data": {
      "text/html": [
       "<div>\n",
       "<style scoped>\n",
       "    .dataframe tbody tr th:only-of-type {\n",
       "        vertical-align: middle;\n",
       "    }\n",
       "\n",
       "    .dataframe tbody tr th {\n",
       "        vertical-align: top;\n",
       "    }\n",
       "\n",
       "    .dataframe thead th {\n",
       "        text-align: right;\n",
       "    }\n",
       "</style>\n",
       "<table border=\"1\" class=\"dataframe\">\n",
       "  <thead>\n",
       "    <tr style=\"text-align: right;\">\n",
       "      <th>categ</th>\n",
       "      <th>0.0</th>\n",
       "      <th>1.0</th>\n",
       "      <th>2.0</th>\n",
       "      <th>Total</th>\n",
       "    </tr>\n",
       "    <tr>\n",
       "      <th>sex</th>\n",
       "      <th></th>\n",
       "      <th></th>\n",
       "      <th></th>\n",
       "      <th></th>\n",
       "    </tr>\n",
       "  </thead>\n",
       "  <tbody>\n",
       "    <tr>\n",
       "      <th>f</th>\n",
       "      <td>200793</td>\n",
       "      <td>111331</td>\n",
       "      <td>16980</td>\n",
       "      <td>329104</td>\n",
       "    </tr>\n",
       "    <tr>\n",
       "      <th>m</th>\n",
       "      <td>186488</td>\n",
       "      <td>101017</td>\n",
       "      <td>15868</td>\n",
       "      <td>303373</td>\n",
       "    </tr>\n",
       "    <tr>\n",
       "      <th>Total</th>\n",
       "      <td>387281</td>\n",
       "      <td>212348</td>\n",
       "      <td>32848</td>\n",
       "      <td>632477</td>\n",
       "    </tr>\n",
       "  </tbody>\n",
       "</table>\n",
       "</div>"
      ],
      "text/plain": [
       "categ     0.0     1.0    2.0   Total\n",
       "sex                                 \n",
       "f      200793  111331  16980  329104\n",
       "m      186488  101017  15868  303373\n",
       "Total  387281  212348  32848  632477"
      ]
     },
     "execution_count": 82,
     "metadata": {},
     "output_type": "execute_result"
    }
   ],
   "source": [
    "#le tableau de contingence\n",
    "X = \"sex\"\n",
    "Y = \"categ\"\n",
    "\n",
    "cont = ventes_df_2[[X,Y]].pivot_table(index=X,columns=Y,aggfunc=len,margins=True,margins_name=\"Total\")\n",
    "cont"
   ]
  },
  {
   "cell_type": "code",
   "execution_count": 83,
   "id": "27802277",
   "metadata": {},
   "outputs": [
    {
     "data": {
      "image/png": "[encoded data removed]",
      "text/plain": [
       "<Figure size 432x288 with 2 Axes>"
      ]
     },
     "metadata": {
      "needs_background": "light"
     },
     "output_type": "display_data"
    }
   ],
   "source": [
    "import seaborn as sns\n",
    "\n",
    "tx = cont.loc[:,[\"Total\"]]\n",
    "ty = cont.loc[[\"Total\"],:]\n",
    "n = len(ventes_df_2)\n",
    "indep = tx.dot(ty) / n\n",
    "\n",
    "c = cont.fillna(0) # On remplace les valeurs nulles par 0\n",
    "measure = (c-indep)**2/indep\n",
    "xi_n = measure.sum().sum()\n",
    "table = measure/xi_n\n",
    "sns.heatmap(table.iloc[:-1,:-1],annot=c.iloc[:-1,:-1])\n",
    "plt.show()\n"
   ]
  },
  {
   "cell_type": "code",
   "execution_count": 84,
   "id": "6ea630cd",
   "metadata": {},
   "outputs": [
    {
     "name": "stdout",
     "output_type": "stream",
     "text": [
      "20.2134606935139\n"
     ]
    }
   ],
   "source": [
    "print(xi_n)"
   ]
  },
  {
   "cell_type": "markdown",
   "id": "bc4bd2e7",
   "metadata": {},
   "source": [
    "chi2 est égal à 20.21 "
   ]
  },
  {
   "cell_type": "markdown",
   "id": "db10e646",
   "metadata": {},
   "source": [
    " l'hypothèse nulle est rejetée, les catégories des livres achetées ne dépendent donc pas du genre de l'acheteur."
   ]
  },
  {
   "cell_type": "code",
   "execution_count": null,
   "id": "5f793a77",
   "metadata": {},
   "outputs": [],
   "source": []
  }
 ],
 "metadata": {
  "kernelspec": {
   "display_name": "Python 3 (ipykernel)",
   "language": "python",
   "name": "python3"
  },
  "language_info": {
   "codemirror_mode": {
    "name": "ipython",
    "version": 3
   },
   "file_extension": ".py",
   "mimetype": "text/x-python",
   "name": "python",
   "nbconvert_exporter": "python",
   "pygments_lexer": "ipython3",
   "version": "3.9.12"
  }
 },
 "nbformat": 4,
 "nbformat_minor": 5
}
